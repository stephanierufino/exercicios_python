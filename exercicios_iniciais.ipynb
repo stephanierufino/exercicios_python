{
  "nbformat": 4,
  "nbformat_minor": 0,
  "metadata": {
    "colab": {
      "name": "exercicios_iniciais.ipynb",
      "provenance": [],
      "collapsed_sections": [],
      "authorship_tag": "ABX9TyM19RqFR8RZynRrLid6Ssn9",
      "include_colab_link": true
    },
    "kernelspec": {
      "name": "python3",
      "display_name": "Python 3"
    }
  },
  "cells": [
    {
      "cell_type": "markdown",
      "metadata": {
        "id": "view-in-github",
        "colab_type": "text"
      },
      "source": [
        "<a href=\"https://colab.research.google.com/github/stephanierufino/exercicios_python/blob/master/exercicios_iniciais.ipynb\" target=\"_parent\"><img src=\"https://colab.research.google.com/assets/colab-badge.svg\" alt=\"Open In Colab\"/></a>"
      ]
    },
    {
      "cell_type": "markdown",
      "metadata": {
        "id": "NDfoVE9vO_pX",
        "colab_type": "text"
      },
      "source": [
        "# **Introducao a Linguagem Phyton**\n",
        "\n",
        "Python e uma linguagem de programacao considerada de alto padrao, a qual  prioriza a legibilidade do codigo.\n",
        "\n",
        "1.   Variaveis\n",
        "2.   Constantes\n",
        "3.   Print\n",
        "4.   Operadores aritmeticos\n",
        "5.   Entrada de dados\n",
        "\n",
        "\n"
      ]
    },
    {
      "cell_type": "markdown",
      "metadata": {
        "id": "FTuENF0LQwut",
        "colab_type": "text"
      },
      "source": [
        "## **Variaveis**\n",
        "\n",
        "Possuem a capacidade de armazenar certo\n",
        "valor, que varia durante a execucao do programa, podendo ser alfabético, numérico, alfanumérico ou lógico.\n",
        "O primeiro caractere da variavel nao pode ser um numero, mas pode ser uma letra ou um underscore (underline). Tambem nao pode nomeada com palavras que são comandos do Python.\n",
        "\n",
        "## **Constantes**\n",
        "\n",
        "Possuem valor fixo durante a execucao do programa.\n",
        "\n",
        "## **Print**\n",
        "\n",
        "A funcao print serve para imprimir na tela uma mensagem informada.\n",
        "\n",
        "\n"
      ]
    },
    {
      "cell_type": "code",
      "metadata": {
        "id": "DpEW4Ae3cmc1",
        "colab_type": "code",
        "colab": {
          "base_uri": "https://localhost:8080/",
          "height": 34
        },
        "outputId": "e9f0186c-8e94-4722-bbb2-3a94c29adf2b"
      },
      "source": [
        "print(\"Hello World!\")"
      ],
      "execution_count": 11,
      "outputs": [
        {
          "output_type": "stream",
          "text": [
            "Hello World!\n"
          ],
          "name": "stdout"
        }
      ]
    },
    {
      "cell_type": "markdown",
      "metadata": {
        "id": "h_GLZHjxcm6N",
        "colab_type": "text"
      },
      "source": [
        "## **Operadores aritmeticos**\n",
        "\n",
        "Irão nos auxiliar na realizacao de calculos dentro de um programa. Abaixo, os operadores entre aspas e suas respectivas funcoes.\n",
        "\n",
        "\n",
        "*   \" + \" : adicao\n",
        "*   \" - \" : subtracao\n",
        "*   \" * \" : multiplicacao\n",
        "*  \" ** \" : exponenciacao ou potenciacao\n",
        "*  \" % \"  : modulo ou resto\n",
        "*   \" / \" : divisao com resultado fracionario\n",
        "*  \" // \" : divisao com resultado inteiro\n",
        "\n",
        "O simbolo de igualdade ( = ), e considerado atribuidor de operacao, ou seja, atribui um valor ao operando à esquerda levando em consideracao o valor do operando à direita."
      ]
    },
    {
      "cell_type": "code",
      "metadata": {
        "id": "gyLvnemlWzlI",
        "colab_type": "code",
        "colab": {
          "base_uri": "https://localhost:8080/",
          "height": 54
        },
        "outputId": "ec0f6131-5d53-44da-ba69-b1a7ae006086"
      },
      "source": [
        "a = 5\n",
        "b = 2\n",
        "\n",
        "adicao = a + b\n",
        "subtracao = a - b\n",
        "multiplicacao = a * b\n",
        "exponenciacao = a ** b\n",
        "resto = a % b\n",
        "divisao1 = a / b\n",
        "divisao2 = a // b\n",
        "\n",
        "print(\"Os calculos entre\", a, \"e\", b, \"sao: adicao\", adicao, \", subtracao\", subtracao, \", multiplicacao\", multiplicacao, \", exponenciacao\", exponenciacao, \", resto\", resto, \", divisao  com resultado fracionario\", divisao1, \", divisao com resultado inteiro\", divisao2)\n",
        " "
      ],
      "execution_count": 6,
      "outputs": [
        {
          "output_type": "stream",
          "text": [
            "Os calculos entre 5 e 2 sao: adicao 7 , subtracao 3 , multiplicacao 10 , exponenciacao 25 , resto 1 , divisao  com resultado fracionario 2.5 , divisao com resultado inteiro 2\n"
          ],
          "name": "stdout"
        }
      ]
    },
    {
      "cell_type": "markdown",
      "metadata": {
        "id": "6YUeqRORZXeF",
        "colab_type": "text"
      },
      "source": [
        "## **Entrada de dados**\n",
        "\n",
        "Para a entrada de dados na linguagem Python, utilizamos a funcao *input ()*, na qual ao inves do dado ser declarado previamente, ele e digitado pelo usuario."
      ]
    },
    {
      "cell_type": "code",
      "metadata": {
        "id": "vMIDztm9azf6",
        "colab_type": "code",
        "colab": {
          "base_uri": "https://localhost:8080/",
          "height": 51
        },
        "outputId": "95e8b95d-f194-4328-9425-c8cb0ceb2a59"
      },
      "source": [
        "a = input(\"Digite um valor: \")\n",
        "print(\"O valor digitado foi\", a)"
      ],
      "execution_count": 7,
      "outputs": [
        {
          "output_type": "stream",
          "text": [
            "Digite um valor: 2\n",
            "O valor digitado foi 2\n"
          ],
          "name": "stdout"
        }
      ]
    },
    {
      "cell_type": "markdown",
      "metadata": {
        "id": "z2GGS4kbbJVR",
        "colab_type": "text"
      },
      "source": [
        "Se a informacao a ser digitada, por exemplo, deve ser, obrigatoriamente, um numero inteiro, usaremos *int(input())*."
      ]
    },
    {
      "cell_type": "code",
      "metadata": {
        "id": "2zKegbtAbnb9",
        "colab_type": "code",
        "colab": {
          "base_uri": "https://localhost:8080/",
          "height": 51
        },
        "outputId": "1dc3325d-8518-4740-fae1-518943ab5f55"
      },
      "source": [
        "c = int(input(\"Digite um valor: \"))\n",
        "print(\"O valor digitado foi\", c)"
      ],
      "execution_count": 12,
      "outputs": [
        {
          "output_type": "stream",
          "text": [
            "Digite um valor: 3\n",
            "O valor digitado foi 3\n"
          ],
          "name": "stdout"
        }
      ]
    },
    {
      "cell_type": "markdown",
      "metadata": {
        "id": "r0_YHw54dGZC",
        "colab_type": "text"
      },
      "source": [
        "Se a informacao a ser digitada, deve ser um numero com ponto flutuante (numero real), usaremos *float(input())*."
      ]
    },
    {
      "cell_type": "code",
      "metadata": {
        "id": "7U7TcMLZdfup",
        "colab_type": "code",
        "colab": {
          "base_uri": "https://localhost:8080/",
          "height": 51
        },
        "outputId": "f1363364-8ad9-46e6-e812-7b7105258990"
      },
      "source": [
        "d = float(input(\"Digite um valor: \"))\n",
        "print(\"O valor digitado foi\", d)"
      ],
      "execution_count": 15,
      "outputs": [
        {
          "output_type": "stream",
          "text": [
            "Digite um valor: 2.3\n",
            "O valor digitado foi 2.3\n"
          ],
          "name": "stdout"
        }
      ]
    },
    {
      "cell_type": "markdown",
      "metadata": {
        "id": "INLv0CvveXo2",
        "colab_type": "text"
      },
      "source": [
        "> 1) Faça um programa que peça dois números inteiros e imprima a soma deles. "
      ]
    },
    {
      "cell_type": "code",
      "metadata": {
        "id": "WogRKEoyeeae",
        "colab_type": "code",
        "colab": {
          "base_uri": "https://localhost:8080/",
          "height": 68
        },
        "outputId": "145daf81-01db-48d4-e6db-381ac76190c3"
      },
      "source": [
        "valor1 = int(input (\"Digite o 1º valor inteiro: \"))\n",
        "valor2 = int(input (\"Digite o 2º valor inteiro: \"))\n",
        "\n",
        "soma=valor1+valor2\n",
        "\n",
        "print (\"A soma dos valores digitados é\", soma)\n"
      ],
      "execution_count": 17,
      "outputs": [
        {
          "output_type": "stream",
          "text": [
            "Digite o 1º valor inteiro: 2\n",
            "Digite o 2º valor inteiro: 0\n",
            "A soma dos valores digitados é 2\n"
          ],
          "name": "stdout"
        }
      ]
    },
    {
      "cell_type": "markdown",
      "metadata": {
        "id": "VDG5Ls7nelpF",
        "colab_type": "text"
      },
      "source": [
        "> 2) Faca um programa que receba três valores inteiros do usuário e mostre a sua média."
      ]
    },
    {
      "cell_type": "code",
      "metadata": {
        "id": "iiY0b8v5e657",
        "colab_type": "code",
        "colab": {
          "base_uri": "https://localhost:8080/",
          "height": 85
        },
        "outputId": "a0300829-6b1c-44a5-f8c9-eb4cce4d25f7"
      },
      "source": [
        "valor1 = int(input(\"Digite o 1º valor inteiro: \"))\n",
        "valor2 = int(input(\"Digite o 2º valor inteiro: \"))\n",
        "valor3 = int(input(\"Digite o 3º valor inteiro: \"))\n",
        "\n",
        "media = (valor1+valor2+valor3) / 3\n",
        "\n",
        "print (\"A média dos valores é\", media)\n",
        "\n"
      ],
      "execution_count": 18,
      "outputs": [
        {
          "output_type": "stream",
          "text": [
            "Digite o 1º valor inteiro: 1\n",
            "Digite o 2º valor inteiro: 2\n",
            "Digite o 3º valor inteiro: 3\n",
            "A média dos valores é 2.0\n"
          ],
          "name": "stdout"
        }
      ]
    },
    {
      "cell_type": "markdown",
      "metadata": {
        "id": "0Bx6qvsNfCxZ",
        "colab_type": "text"
      },
      "source": [
        "> 3) Faca um programa que leia a quantidade de dias, horas, minutos e segundos do usuário e calcule o total em segundos.\n"
      ]
    },
    {
      "cell_type": "code",
      "metadata": {
        "id": "3HlEmd9wfMB1",
        "colab_type": "code",
        "colab": {
          "base_uri": "https://localhost:8080/",
          "height": 102
        },
        "outputId": "1188d241-8f19-4d4c-ec76-4868e3147632"
      },
      "source": [
        "dias = int(input (\"Digite o número de dias: \"))\n",
        "horas = int(input (\"Digite o número de horas: \"))\n",
        "minutos = int(input (\"Digite o número de minutos: \"))\n",
        "segundos = int(input (\"Digite o número de segundos: \"))\n",
        "\n",
        "calculo = (dias*86400) + (horas*3600) + (minutos*60) + segundos\n",
        "\n",
        "print (\"O total é de\", calculo, \"segundos.\")"
      ],
      "execution_count": 19,
      "outputs": [
        {
          "output_type": "stream",
          "text": [
            "Digite o número de dias30\n",
            "Digite o número de horas12\n",
            "Digite o número de minutos35\n",
            "Digite o número de segundos1\n",
            "O total é de 2637301 segundos.\n"
          ],
          "name": "stdout"
        }
      ]
    },
    {
      "cell_type": "markdown",
      "metadata": {
        "id": "21TrTAWOfTaW",
        "colab_type": "text"
      },
      "source": [
        "> 4) Escreva um programa que leia um valor em metros e o exiba convertido em milímetros.\n"
      ]
    },
    {
      "cell_type": "code",
      "metadata": {
        "id": "QMxjAhx3fYVH",
        "colab_type": "code",
        "colab": {
          "base_uri": "https://localhost:8080/",
          "height": 51
        },
        "outputId": "01ea5188-74ab-46c9-afca-ada657a60dac"
      },
      "source": [
        "valor1 = float(input(\"Digite o número em metros: \"))\n",
        "\n",
        "conversor = valor1 * 1000\n",
        "\n",
        "print (\"O valor digitado corresponde a\", conversor, \"milímetros\")\n"
      ],
      "execution_count": 20,
      "outputs": [
        {
          "output_type": "stream",
          "text": [
            "Digite o número em metros: 2.5\n",
            "O valor digitado corresponde a 2500.0 milímetros\n"
          ],
          "name": "stdout"
        }
      ]
    },
    {
      "cell_type": "markdown",
      "metadata": {
        "id": "9RwsWosJfeZL",
        "colab_type": "text"
      },
      "source": [
        "> 5) Faca um programa que leia o salário mensal de um funcionário e o percentual de reajuste. Calcular e escrever o valor do novo salário.\n",
        " \n"
      ]
    },
    {
      "cell_type": "code",
      "metadata": {
        "id": "T7DaacsCfoXx",
        "colab_type": "code",
        "colab": {
          "base_uri": "https://localhost:8080/",
          "height": 68
        },
        "outputId": "667c24cd-f45e-40f1-faa4-42842b5b0195"
      },
      "source": [
        "salario = float(input(\"Digite o valor do salário atual: \"))\n",
        "reajuste = float(input(\"Digite o valor do reajuste em porcentagem: \"))\n",
        "\n",
        "porcentagem = reajuste * (0.01)\n",
        "\n",
        "novoSalario = (porcentagem*salario) + salario\n",
        "\n",
        "print (\"O valor do novo salário é\", novoSalario)"
      ],
      "execution_count": 21,
      "outputs": [
        {
          "output_type": "stream",
          "text": [
            "Digite o valor do salário atual: 1000\n",
            "Digite o valor do reajuste em porcentagem: 1.1\n",
            "O valor do novo salário é 1011.0\n"
          ],
          "name": "stdout"
        }
      ]
    },
    {
      "cell_type": "markdown",
      "metadata": {
        "id": "VhPsNIulfw6H",
        "colab_type": "text"
      },
      "source": [
        "> 6) Escreva um programa para receber uma temperatura em graus Fahrenheit, calcular e escrever o valor correspondente em graus Celsius. \n"
      ]
    },
    {
      "cell_type": "code",
      "metadata": {
        "id": "1qwFD4klgAzc",
        "colab_type": "code",
        "colab": {
          "base_uri": "https://localhost:8080/",
          "height": 51
        },
        "outputId": "eae6c51b-c27e-4dec-f6d3-594ce354e515"
      },
      "source": [
        "grausF = float(input(\"Digite a temperatura em Fahrenheit: \"))\n",
        "\n",
        "grausC = ((grausF-32)/9)*5\n",
        "\n",
        "print (\"A temperatura corresponde a\", grausC, \"°C.\")"
      ],
      "execution_count": 22,
      "outputs": [
        {
          "output_type": "stream",
          "text": [
            "Digite a temperatura em Fahrenheit: 241\n",
            "A temperatura corresponde a 116.11111111111111 °C.\n"
          ],
          "name": "stdout"
        }
      ]
    },
    {
      "cell_type": "markdown",
      "metadata": {
        "id": "f_mfCU27gkQC",
        "colab_type": "text"
      },
      "source": [
        "> 7) Faca um programa que leia o preço do litro do combustível de um carro, o desempenho do veículo (km/l) e a distância entre duas cidades (km), e informe quantos litros e quanto dinheiro vai ser gasto para fazer uma viagem entre as duas cidades.\n"
      ]
    },
    {
      "cell_type": "code",
      "metadata": {
        "id": "XytcNz5hg5BG",
        "colab_type": "code",
        "colab": {
          "base_uri": "https://localhost:8080/",
          "height": 85
        },
        "outputId": "78a3b4cc-40fe-40c4-a4bf-869d0bd7ddcf"
      },
      "source": [
        "precoLitro = float(input(\"Digite o preço do litro do combustível: \"))\n",
        "desempenho = float(input(\"Digite o desempenho do seu carro em km/L: \"))\n",
        "distancia = float(input(\"Digite a distância a ser percorrida em km: \"))\n",
        "\n",
        "gasto = (distancia/desempenho) * precoLitro\n",
        "\n",
        "print (\"Você vai gastar R$\", gasto, \"reais para percorrer a distância informada.\")\n"
      ],
      "execution_count": 23,
      "outputs": [
        {
          "output_type": "stream",
          "text": [
            "Digite o preço do litro do combustível: 4.5\n",
            "Digite o desempenho do seu carro em km/L: 12\n",
            "Digite a distância a ser percorrida em km: 630\n",
            "Você vai gastar R$ 236.25 reais para percorrer a distância informada.\n"
          ],
          "name": "stdout"
        }
      ]
    },
    {
      "cell_type": "markdown",
      "metadata": {
        "id": "5KE0WYSihF5h",
        "colab_type": "text"
      },
      "source": [
        "> 8) Implemente um programa que pergunte a quantidade de km percorridos por um carro alugado pelo usuário, assim como a quantidade de dias pelos quais o carro foi alugado. Calcule o preço a pagar, sabendo que o carro custa R$ 60 por dia e R$ 0,15 por km rodado.\n"
      ]
    },
    {
      "cell_type": "code",
      "metadata": {
        "id": "q2NEEt6ihPc0",
        "colab_type": "code",
        "colab": {
          "base_uri": "https://localhost:8080/",
          "height": 68
        },
        "outputId": "213c9312-98a0-4ec3-c408-444179c6e24f"
      },
      "source": [
        "km = float(input(\"Digite quanto o carro percorreu em km: \"))\n",
        "dias =int(input(\"Digite por quantos dias o carro foi alugado: \"))\n",
        "\n",
        "valor = (60 * dias) + (0.15 * km)\n",
        "\n",
        "print (\"Você irá pagar R$\", valor, \"reais pelo carro alugado.\")"
      ],
      "execution_count": 25,
      "outputs": [
        {
          "output_type": "stream",
          "text": [
            "Digite quanto o carro percorreu em km: 630\n",
            "Digite por quantos dias o carro foi alugado: 10\n",
            "Você irá pagar R$ 694.5 reais pelo carro alugado.\n"
          ],
          "name": "stdout"
        }
      ]
    },
    {
      "cell_type": "markdown",
      "metadata": {
        "id": "ZKGGGUZZhoV7",
        "colab_type": "text"
      },
      "source": [
        "> 9) Escreva um programa que armazene um valor de entrada em uma variável A e outro em uma variável B. A seguir (utilizando apenas atribuições entre variáveis) troque os seus conteúdos fazendo com que o valor que está em A passe para B e vice-versa. Ao final escrever os valores que ficaram armazenados nas variáveis.\n"
      ]
    },
    {
      "cell_type": "code",
      "metadata": {
        "id": "anoI5nbjiegw",
        "colab_type": "code",
        "colab": {
          "base_uri": "https://localhost:8080/",
          "height": 51
        },
        "outputId": "c00ecc50-e2dd-42f9-a450-3b0631ea2913"
      },
      "source": [
        "varA=2\n",
        "varB=3\n",
        "varC=varB\n",
        "varB=varA\n",
        "varA=varC\n",
        "\n",
        "print(varA)\n",
        "print(varB)"
      ],
      "execution_count": 26,
      "outputs": [
        {
          "output_type": "stream",
          "text": [
            "3\n",
            "2\n"
          ],
          "name": "stdout"
        }
      ]
    }
  ]
}