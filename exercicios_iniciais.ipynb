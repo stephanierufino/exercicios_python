{
  "nbformat": 4,
  "nbformat_minor": 0,
  "metadata": {
    "colab": {
      "name": "exercicios_iniciais.ipynb",
      "provenance": [],
      "collapsed_sections": [],
      "authorship_tag": "ABX9TyNdRFLd7chrY8ab6E5XD5jg",
      "include_colab_link": true
    },
    "kernelspec": {
      "name": "python3",
      "display_name": "Python 3"
    }
  },
  "cells": [
    {
      "cell_type": "markdown",
      "metadata": {
        "id": "view-in-github",
        "colab_type": "text"
      },
      "source": [
        "<a href=\"https://colab.research.google.com/github/stephanierufino/exercicios_python/blob/master/exercicios_iniciais.ipynb\" target=\"_parent\"><img src=\"https://colab.research.google.com/assets/colab-badge.svg\" alt=\"Open In Colab\"/></a>"
      ]
    },
    {
      "cell_type": "markdown",
      "metadata": {
        "id": "NDfoVE9vO_pX",
        "colab_type": "text"
      },
      "source": [
        "# **Introdução a Linguagem Phyton**\n",
        "\n",
        "Python é uma linguagem de programação considerada de alto padrão, a qual  prioriza a legibilidade do código.\n",
        "\n",
        "1.   Variáveis\n",
        "2.   Constantes\n",
        "3.   Print\n",
        "4.   Operadores aritméticos\n",
        "5.   Entrada de dados\n",
        "\n",
        "\n"
      ]
    },
    {
      "cell_type": "markdown",
      "metadata": {
        "id": "FTuENF0LQwut",
        "colab_type": "text"
      },
      "source": [
        "## **Variáveis**\n",
        "\n",
        "Possuem a capacidade de armazenar certo\n",
        "valor, que varia durante a execução do programa, podendo ser alfabético, numérico, alfanumérico ou lógico.\n",
        "O primeiro caractere da variável não pode ser um número, mas pode ser uma letra ou um underscore (underline), também não pode nomeada com palavras que são comandos do Python.\n",
        "\n",
        "## **Constantes**\n",
        "\n",
        "Possuem valor fixo durante a execução do programa.\n",
        "\n",
        "## **Print**\n",
        "\n",
        "A função print serve para imprimir na tela uma mensagem informada.\n",
        "\n",
        "\n"
      ]
    },
    {
      "cell_type": "code",
      "metadata": {
        "id": "DpEW4Ae3cmc1",
        "colab_type": "code",
        "colab": {
          "base_uri": "https://localhost:8080/",
          "height": 34
        },
        "outputId": "dcb9c662-b0cf-4d6c-f28c-c38891852b55"
      },
      "source": [
        "print(\"Hello World!\")"
      ],
      "execution_count": 3,
      "outputs": [
        {
          "output_type": "stream",
          "text": [
            "Hello World!\n"
          ],
          "name": "stdout"
        }
      ]
    },
    {
      "cell_type": "markdown",
      "metadata": {
        "id": "h_GLZHjxcm6N",
        "colab_type": "text"
      },
      "source": [
        "## **Operadores aritméticos**\n",
        "\n",
        "Irão nos auxiliar na realização de cálculos dentro de um programa. Abaixo, os operadores entre aspas e suas respectivas funções.\n",
        "\n",
        "\n",
        "*   \" + \" : adição\n",
        "*   \" - \" : subtração\n",
        "*   \" * \" : multiplicação\n",
        "*  \" ** \" : exponenciação ou potenciação\n",
        "*  \" % \"  : módulo ou resto\n",
        "*   \" / \" : divisão com resultado fracionário\n",
        "*  \" // \" : divisão com resultado inteiro\n",
        "\n",
        "O símbolo de igualdade ( = ) é considerado atribuidor de operação, ou seja, atribui um valor ao operando à esquerda levando em consideração o valor do operando à direita."
      ]
    },
    {
      "cell_type": "code",
      "metadata": {
        "id": "gyLvnemlWzlI",
        "colab_type": "code",
        "colab": {
          "base_uri": "https://localhost:8080/",
          "height": 54
        },
        "outputId": "b0003402-27af-4728-ddd1-e03822272557"
      },
      "source": [
        "a = 5\n",
        "b = 2\n",
        "\n",
        "adicao = a + b\n",
        "subtracao = a - b\n",
        "multiplicacao = a * b\n",
        "exponenciacao = a ** b\n",
        "modulo = a % b\n",
        "divisao1 = a / b\n",
        "divisao2 = a // b\n",
        "\n",
        "print(\"Os cálculos entre\", a, \"e\", b, \"são: adição\", adicao, \", subtração\", subtracao, \", multiplicação\", multiplicacao, \", exponenciação\", exponenciacao, \", módulo \", modulo, \", divisão com resultado fracionário\", divisao1, \", divisão com resultado inteiro\", divisao2)\n",
        " "
      ],
      "execution_count": 4,
      "outputs": [
        {
          "output_type": "stream",
          "text": [
            "Os cálculos entre 5 e 2 são: adição 7 , subtração 3 , multiplicação 10 , exponenciação 25 , módulo  1 , divisão com resultado fracionário 2.5 , divisão com resultado inteiro 2\n"
          ],
          "name": "stdout"
        }
      ]
    },
    {
      "cell_type": "markdown",
      "metadata": {
        "id": "6YUeqRORZXeF",
        "colab_type": "text"
      },
      "source": [
        "## **Entrada de dados**\n",
        "\n",
        "Para a entrada de dados na linguagem Python, utilizamos a função *input ()*, na qual ao invés do dado ser declarado previamente, ele é digitado pelo usuário."
      ]
    },
    {
      "cell_type": "code",
      "metadata": {
        "id": "vMIDztm9azf6",
        "colab_type": "code",
        "colab": {}
      },
      "source": [
        "a = input(\"Digite um valor: \")\n",
        "print(\"O valor digitado foi\", a)"
      ],
      "execution_count": null,
      "outputs": []
    },
    {
      "cell_type": "markdown",
      "metadata": {
        "id": "z2GGS4kbbJVR",
        "colab_type": "text"
      },
      "source": [
        "Se a informação a ser digitada for um número inteiro, usaremos *int(input())*."
      ]
    },
    {
      "cell_type": "code",
      "metadata": {
        "id": "2zKegbtAbnb9",
        "colab_type": "code",
        "colab": {}
      },
      "source": [
        "c = int(input(\"Digite um valor: \"))\n",
        "print(\"O valor digitado foi\", c)"
      ],
      "execution_count": null,
      "outputs": []
    },
    {
      "cell_type": "markdown",
      "metadata": {
        "id": "r0_YHw54dGZC",
        "colab_type": "text"
      },
      "source": [
        "Se a informação a ser digitada for um número com ponto flutuante (número real), usaremos *float(input())*."
      ]
    },
    {
      "cell_type": "code",
      "metadata": {
        "id": "7U7TcMLZdfup",
        "colab_type": "code",
        "colab": {}
      },
      "source": [
        "d = float(input(\"Digite um valor: \"))\n",
        "print(\"O valor digitado foi\", d)"
      ],
      "execution_count": null,
      "outputs": []
    },
    {
      "cell_type": "markdown",
      "metadata": {
        "id": "INLv0CvveXo2",
        "colab_type": "text"
      },
      "source": [
        "> 1) Faça um programa que peça dois números inteiros e imprima a soma deles. "
      ]
    },
    {
      "cell_type": "code",
      "metadata": {
        "id": "WogRKEoyeeae",
        "colab_type": "code",
        "colab": {}
      },
      "source": [
        "valor1 = int(input (\"Digite o 1º valor inteiro: \"))\n",
        "valor2 = int(input (\"Digite o 2º valor inteiro: \"))\n",
        "\n",
        "soma=valor1+valor2\n",
        "\n",
        "print (\"A soma dos valores digitados é\", soma)\n"
      ],
      "execution_count": null,
      "outputs": []
    },
    {
      "cell_type": "markdown",
      "metadata": {
        "id": "VDG5Ls7nelpF",
        "colab_type": "text"
      },
      "source": [
        "> 2) Faça um programa que receba três valores inteiros do usuário e mostre a sua média."
      ]
    },
    {
      "cell_type": "code",
      "metadata": {
        "id": "iiY0b8v5e657",
        "colab_type": "code",
        "colab": {}
      },
      "source": [
        "valor1 = int(input(\"Digite o 1º valor inteiro: \"))\n",
        "valor2 = int(input(\"Digite o 2º valor inteiro: \"))\n",
        "valor3 = int(input(\"Digite o 3º valor inteiro: \"))\n",
        "\n",
        "media = (valor1+valor2+valor3) / 3\n",
        "\n",
        "print (\"A média dos valores é\", media)\n",
        "\n"
      ],
      "execution_count": null,
      "outputs": []
    },
    {
      "cell_type": "markdown",
      "metadata": {
        "id": "0Bx6qvsNfCxZ",
        "colab_type": "text"
      },
      "source": [
        "> 3) Faça um programa que leia a quantidade de dias, horas, minutos e segundos digitado pelo usuário e calcule o total em segundos.\n"
      ]
    },
    {
      "cell_type": "code",
      "metadata": {
        "id": "3HlEmd9wfMB1",
        "colab_type": "code",
        "colab": {}
      },
      "source": [
        "dias = int(input (\"Digite o número de dias: \"))\n",
        "horas = int(input (\"Digite o número de horas: \"))\n",
        "minutos = int(input (\"Digite o número de minutos: \"))\n",
        "segundos = int(input (\"Digite o número de segundos: \"))\n",
        "\n",
        "calculo = (dias*86400) + (horas*3600) + (minutos*60) + segundos\n",
        "\n",
        "print (\"O total é de\", calculo, \"segundos.\")"
      ],
      "execution_count": null,
      "outputs": []
    },
    {
      "cell_type": "markdown",
      "metadata": {
        "id": "21TrTAWOfTaW",
        "colab_type": "text"
      },
      "source": [
        "> 4) Escreva um programa que leia um valor em metros e o exiba convertido em milímetros.\n"
      ]
    },
    {
      "cell_type": "code",
      "metadata": {
        "id": "QMxjAhx3fYVH",
        "colab_type": "code",
        "colab": {}
      },
      "source": [
        "valor1 = float(input(\"Digite o número em metros: \"))\n",
        "\n",
        "conversor = valor1 * 1000\n",
        "\n",
        "print (\"O valor digitado corresponde a\", conversor, \"milímetros\")\n"
      ],
      "execution_count": null,
      "outputs": []
    },
    {
      "cell_type": "markdown",
      "metadata": {
        "id": "9RwsWosJfeZL",
        "colab_type": "text"
      },
      "source": [
        "> 5) Faça um programa que leia o salário mensal de um funcionário e o percentual do seu reajuste. Calcular e imprimir o valor do novo salário.\n",
        " \n"
      ]
    },
    {
      "cell_type": "code",
      "metadata": {
        "id": "T7DaacsCfoXx",
        "colab_type": "code",
        "colab": {}
      },
      "source": [
        "salario = float(input(\"Digite o valor do salário atual: \"))\n",
        "reajuste = float(input(\"Digite o valor do reajuste em porcentagem: \"))\n",
        "\n",
        "porcentagem = reajuste * (0.01)\n",
        "\n",
        "novoSalario = (porcentagem*salario) + salario\n",
        "\n",
        "print (\"O valor do novo salário é\", novoSalario)"
      ],
      "execution_count": null,
      "outputs": []
    },
    {
      "cell_type": "markdown",
      "metadata": {
        "id": "VhPsNIulfw6H",
        "colab_type": "text"
      },
      "source": [
        "> 6) Escreva um programa para receber uma temperatura em graus Fahrenheit. Calcular e escrever o valor correspondente em graus Celsius. \n"
      ]
    },
    {
      "cell_type": "code",
      "metadata": {
        "id": "1qwFD4klgAzc",
        "colab_type": "code",
        "colab": {}
      },
      "source": [
        "grausF = float(input(\"Digite a temperatura em Fahrenheit: \"))\n",
        "\n",
        "grausC = ((grausF-32)/9)*5\n",
        "\n",
        "print (\"A temperatura corresponde a\", grausC, \"°C.\")"
      ],
      "execution_count": null,
      "outputs": []
    },
    {
      "cell_type": "markdown",
      "metadata": {
        "id": "f_mfCU27gkQC",
        "colab_type": "text"
      },
      "source": [
        "> 7) Faça um programa que leia o preço do litro do combustível de um carro, o desempenho do veículo (km/l) e a distância entre duas cidades (km) e informe quantos litros e qual valor será gasto para fazer uma viagem entre as duas cidades.\n"
      ]
    },
    {
      "cell_type": "code",
      "metadata": {
        "id": "XytcNz5hg5BG",
        "colab_type": "code",
        "colab": {}
      },
      "source": [
        "precoLitro = float(input(\"Digite o preço do litro do combustível: \"))\n",
        "desempenho = float(input(\"Digite o desempenho do seu carro em km/L: \"))\n",
        "distancia = float(input(\"Digite a distância a ser percorrida em km: \"))\n",
        "\n",
        "gasto = (distancia/desempenho) * precoLitro\n",
        "\n",
        "print (\"Você vai gastar R$\", gasto, \"reais para percorrer a distância informada.\")\n"
      ],
      "execution_count": null,
      "outputs": []
    },
    {
      "cell_type": "markdown",
      "metadata": {
        "id": "5KE0WYSihF5h",
        "colab_type": "text"
      },
      "source": [
        "> 8) Implemente um programa que pergunte a quantidade de km percorridos por um carro alugado pelo usuário, assim como a quantidade de dias pelos quais o carro foi alugado. Calcule o preço a pagar, sabendo que o carro custa 60 reais/dia e 15 centavos por km rodado.\n"
      ]
    },
    {
      "cell_type": "code",
      "metadata": {
        "id": "q2NEEt6ihPc0",
        "colab_type": "code",
        "colab": {}
      },
      "source": [
        "km = float(input(\"Digite quanto o carro percorreu em km: \"))\n",
        "dias =int(input(\"Digite por quantos dias o carro foi alugado: \"))\n",
        "\n",
        "valor = (60 * dias) + (0.15 * km)\n",
        "\n",
        "print (\"Você irá pagar R$\", valor, \"reais pelo carro alugado.\")"
      ],
      "execution_count": null,
      "outputs": []
    },
    {
      "cell_type": "markdown",
      "metadata": {
        "id": "ZKGGGUZZhoV7",
        "colab_type": "text"
      },
      "source": [
        "> 9) Escreva um programa que armazene um valor de entrada em uma variável A e outro em uma variável B. A seguir (utilizando apenas atribuições entre variáveis) troque os seus conteúdos fazendo com que o valor que está em A passe para B e vice-versa. Ao final, imprimir os valores que ficaram armazenados nas variáveis.\n"
      ]
    },
    {
      "cell_type": "code",
      "metadata": {
        "id": "anoI5nbjiegw",
        "colab_type": "code",
        "colab": {}
      },
      "source": [
        "varA=2\n",
        "varB=3\n",
        "varC=varB\n",
        "varB=varA\n",
        "varA=varC\n",
        "\n",
        "print(varA)\n",
        "print(varB)"
      ],
      "execution_count": null,
      "outputs": []
    }
  ]
}