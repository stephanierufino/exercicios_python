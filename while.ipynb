{
  "nbformat": 4,
  "nbformat_minor": 0,
  "metadata": {
    "colab": {
      "name": "while.ipynb",
      "provenance": [],
      "authorship_tag": "ABX9TyNjwbxVyg0nO5SXa1ByrDHE",
      "include_colab_link": true
    },
    "kernelspec": {
      "name": "python3",
      "display_name": "Python 3"
    }
  },
  "cells": [
    {
      "cell_type": "markdown",
      "metadata": {
        "id": "view-in-github",
        "colab_type": "text"
      },
      "source": [
        "<a href=\"https://colab.research.google.com/github/stephanierufino/exercicios_python/blob/master/while.ipynb\" target=\"_parent\"><img src=\"https://colab.research.google.com/assets/colab-badge.svg\" alt=\"Open In Colab\"/></a>"
      ]
    },
    {
      "cell_type": "markdown",
      "metadata": {
        "id": "FLhzes9vRGhq",
        "colab_type": "text"
      },
      "source": [
        "Faca um algoritmo que peca ao usuario para digitar um numero inteiro de modo que ele imprima a sequencia de numeros comecando do 0 ate a o numero digitado"
      ]
    },
    {
      "cell_type": "code",
      "metadata": {
        "id": "FwxQYxVHQMWq",
        "colab_type": "code",
        "colab": {
          "base_uri": "https://localhost:8080/",
          "height": 221
        },
        "outputId": "3afd2b3a-1fd8-4bb4-ea79-5be06d6287ec"
      },
      "source": [
        "fim = int(input(\"Digite o n final: \"))\n",
        "x = 0\n",
        "\n",
        "while(x<=fim):\n",
        "    print(x)\n",
        "    x = x + 1"
      ],
      "execution_count": 1,
      "outputs": [
        {
          "output_type": "stream",
          "text": [
            "Digite o n final10\n",
            "0\n",
            "1\n",
            "2\n",
            "3\n",
            "4\n",
            "5\n",
            "6\n",
            "7\n",
            "8\n",
            "9\n",
            "10\n"
          ],
          "name": "stdout"
        }
      ]
    }
  ]
}