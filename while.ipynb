{
  "nbformat": 4,
  "nbformat_minor": 0,
  "metadata": {
    "colab": {
      "name": "while.ipynb",
      "provenance": [],
      "collapsed_sections": [],
      "authorship_tag": "ABX9TyPFnis/VXoRO+5kmWhMufXT",
      "include_colab_link": true
    },
    "kernelspec": {
      "name": "python3",
      "display_name": "Python 3"
    },
    "accelerator": "GPU"
  },
  "cells": [
    {
      "cell_type": "markdown",
      "metadata": {
        "id": "view-in-github",
        "colab_type": "text"
      },
      "source": [
        "<a href=\"https://colab.research.google.com/github/stephanierufino/exercicios_python/blob/master/while.ipynb\" target=\"_parent\"><img src=\"https://colab.research.google.com/assets/colab-badge.svg\" alt=\"Open In Colab\"/></a>"
      ]
    },
    {
      "cell_type": "markdown",
      "metadata": {
        "id": "7frBhVMMqEMJ",
        "colab_type": "text"
      },
      "source": [
        "# **While**\n",
        "\n",
        "A estrutura de controle de repetição *while* pode ser interpretada como a palavra\"enquanto\", ou seja, o algoritmo pré-determinado será repetido enquanto a lógica do bloco for verdadeira. Quando a lógica se tornar falsa, o bloco deixa de ser executado.\n",
        "\n",
        "> Como exemplo, temos um algoritmo que mostra os números de 50 a 100."
      ]
    },
    {
      "cell_type": "code",
      "metadata": {
        "id": "fguRY1taSoYo",
        "colab_type": "code",
        "colab": {
          "base_uri": "https://localhost:8080/",
          "height": 884
        },
        "outputId": "6f8424c2-3daa-4b34-f0a9-6be5021ebd16"
      },
      "source": [
        "x = 50\n",
        "\n",
        "while x <= 100:\n",
        "\n",
        "  print (x)\n",
        "  x+=1"
      ],
      "execution_count": 1,
      "outputs": [
        {
          "output_type": "stream",
          "text": [
            "50\n",
            "51\n",
            "52\n",
            "53\n",
            "54\n",
            "55\n",
            "56\n",
            "57\n",
            "58\n",
            "59\n",
            "60\n",
            "61\n",
            "62\n",
            "63\n",
            "64\n",
            "65\n",
            "66\n",
            "67\n",
            "68\n",
            "69\n",
            "70\n",
            "71\n",
            "72\n",
            "73\n",
            "74\n",
            "75\n",
            "76\n",
            "77\n",
            "78\n",
            "79\n",
            "80\n",
            "81\n",
            "82\n",
            "83\n",
            "84\n",
            "85\n",
            "86\n",
            "87\n",
            "88\n",
            "89\n",
            "90\n",
            "91\n",
            "92\n",
            "93\n",
            "94\n",
            "95\n",
            "96\n",
            "97\n",
            "98\n",
            "99\n",
            "100\n"
          ],
          "name": "stdout"
        }
      ]
    },
    {
      "cell_type": "markdown",
      "metadata": {
        "id": "mj-yQ-7pT7cY",
        "colab_type": "text"
      },
      "source": [
        "Abaixo, exercícios envolvendo *while*.\n",
        "\n",
        "> 1) Faça um algoritmo que mostre os números de 1 a 60."
      ]
    },
    {
      "cell_type": "code",
      "metadata": {
        "id": "4oAR9z8_S4uP",
        "colab_type": "code",
        "colab": {
          "base_uri": "https://localhost:8080/",
          "height": 1000
        },
        "outputId": "6c909121-bee6-43b5-e40c-bd4a58ab9ddf"
      },
      "source": [
        "x = 1\n",
        "\n",
        "while x <= 60:\n",
        "\n",
        "  print (x)\n",
        "  x+=1"
      ],
      "execution_count": null,
      "outputs": [
        {
          "output_type": "stream",
          "text": [
            "1\n",
            "2\n",
            "3\n",
            "4\n",
            "5\n",
            "6\n",
            "7\n",
            "8\n",
            "9\n",
            "10\n",
            "11\n",
            "12\n",
            "13\n",
            "14\n",
            "15\n",
            "16\n",
            "17\n",
            "18\n",
            "19\n",
            "20\n",
            "21\n",
            "22\n",
            "23\n",
            "24\n",
            "25\n",
            "26\n",
            "27\n",
            "28\n",
            "29\n",
            "30\n",
            "31\n",
            "32\n",
            "33\n",
            "34\n",
            "35\n",
            "36\n",
            "37\n",
            "38\n",
            "39\n",
            "40\n",
            "41\n",
            "42\n",
            "43\n",
            "44\n",
            "45\n",
            "46\n",
            "47\n",
            "48\n",
            "49\n",
            "50\n",
            "51\n",
            "52\n",
            "53\n",
            "54\n",
            "55\n",
            "56\n",
            "57\n",
            "58\n",
            "59\n",
            "60\n"
          ],
          "name": "stdout"
        }
      ]
    },
    {
      "cell_type": "markdown",
      "metadata": {
        "id": "FLhzes9vRGhq",
        "colab_type": "text"
      },
      "source": [
        "> 2) Faça um algoritmo que peça ao usuário para digitar um número inteiro de modo que seja impressa a sequência de números, começando por 0."
      ]
    },
    {
      "cell_type": "code",
      "metadata": {
        "id": "FwxQYxVHQMWq",
        "colab_type": "code",
        "colab": {}
      },
      "source": [
        "fim = int(input(\"Digite o n final: \"))\n",
        "x = 0\n",
        "\n",
        "while(x<=fim):\n",
        "    print(x)\n",
        "    x = x + 1"
      ],
      "execution_count": null,
      "outputs": []
    },
    {
      "cell_type": "markdown",
      "metadata": {
        "id": "paMuiABxTPfq",
        "colab_type": "text"
      },
      "source": [
        "> 3) Elabore um algoritmo que faça a contagem regressiva de um\n",
        "foguete. O programa deve mostrar: \"5,4, … 1, 0, FOGO!\""
      ]
    },
    {
      "cell_type": "code",
      "metadata": {
        "id": "L6nzDdztSDZ_",
        "colab_type": "code",
        "colab": {
          "base_uri": "https://localhost:8080/",
          "height": 136
        },
        "outputId": "24e00add-7c29-4c00-96ed-333fcda90525"
      },
      "source": [
        "x = 5\n",
        "while x >= 0:\n",
        "    print(x)\n",
        "    x = x - 1\n",
        "print(\"Fogo!!!\")"
      ],
      "execution_count": null,
      "outputs": [
        {
          "output_type": "stream",
          "text": [
            "5\n",
            "4\n",
            "3\n",
            "2\n",
            "1\n",
            "0\n",
            "Fogo!!!\n"
          ],
          "name": "stdout"
        }
      ]
    },
    {
      "cell_type": "markdown",
      "metadata": {
        "id": "f3Jhz16_VelK",
        "colab_type": "text"
      },
      "source": [
        "> 4) Elabore um algoritmo em que o usuário digita um número final e imprima a sequência dos numeros pares, começando por 2 e indo até o número digitado."
      ]
    },
    {
      "cell_type": "code",
      "metadata": {
        "id": "0pwsEW1XYfQf",
        "colab_type": "code",
        "colab": {}
      },
      "source": [
        "fim = int(input(\"Digite o n final: \"))\n",
        "x = 2\n",
        "\n",
        "while(x <= fim):\n",
        "    if x % 2 == 0:\n",
        "        print(x)\n",
        "    x = x + 1"
      ],
      "execution_count": null,
      "outputs": []
    },
    {
      "cell_type": "markdown",
      "metadata": {
        "id": "d5P9dyr2ZIpN",
        "colab_type": "text"
      },
      "source": [
        "Faça um algoritmo que mostre apenas os números ímpares, de 1\n",
        "até um valor definido pelo usuário."
      ]
    },
    {
      "cell_type": "code",
      "metadata": {
        "id": "yfxq0Y2nZJht",
        "colab_type": "code",
        "colab": {
          "base_uri": "https://localhost:8080/",
          "height": 136
        },
        "outputId": "c5e519d3-9b7b-439c-de78-2e5f7905eb9b"
      },
      "source": [
        "fim = int(input(\"Digite o número final: \"))\n",
        "x = 0\n",
        "\n",
        "while(x <= fim):\n",
        "    if x % 2 != 0:\n",
        "        print(x)\n",
        "    x = x + 1"
      ],
      "execution_count": null,
      "outputs": [
        {
          "output_type": "stream",
          "text": [
            "Digite o número final: 12\n",
            "1\n",
            "3\n",
            "5\n",
            "7\n",
            "9\n",
            "11\n"
          ],
          "name": "stdout"
        }
      ]
    },
    {
      "cell_type": "markdown",
      "metadata": {
        "id": "zKvEtvfVYmOq",
        "colab_type": "text"
      },
      "source": [
        "Elabore um algoritmo que leia uma nota válida, ou seja, ela deve ser maior ou igual a 0 e menor ou igual a 10. Caso uma nota lida seja inválida, repetir a entrada de dados."
      ]
    },
    {
      "cell_type": "code",
      "metadata": {
        "id": "3M1gjRk4Vftk",
        "colab_type": "code",
        "colab": {
          "base_uri": "https://localhost:8080/",
          "height": 119
        },
        "outputId": "8e8ce6cb-a5b0-4d67-8e02-8ceb53a3e342"
      },
      "source": [
        "nota = -1\n",
        "while(nota < 0 or nota > 10):\n",
        "  nota = float(input(\"Digite uma nota para encerrar: \"))\n",
        "  if nota < 0 or nota > 10:\n",
        "    print(\"Digite uma nota correta\")\n",
        "else:\n",
        "    print (\"Ok\")"
      ],
      "execution_count": null,
      "outputs": [
        {
          "output_type": "stream",
          "text": [
            "Digite uma nota para encerrar: 11\n",
            "Digite uma nota correta\n",
            "Digite uma nota para encerrar: -1\n",
            "Digite uma nota correta\n",
            "Digite uma nota para encerrar: 2\n",
            "Ok\n"
          ],
          "name": "stdout"
        }
      ]
    },
    {
      "cell_type": "markdown",
      "metadata": {
        "id": "STIqClvVWnba",
        "colab_type": "text"
      },
      "source": [
        "Elabore um algoritmo que leia preços de produtos e calcule o\n",
        "total da compra. Encerrar o algoritmo quando for digitado 0 para o\n",
        "preço."
      ]
    },
    {
      "cell_type": "code",
      "metadata": {
        "id": "BaM3we5WWuRv",
        "colab_type": "code",
        "colab": {
          "base_uri": "https://localhost:8080/",
          "height": 102
        },
        "outputId": "b43bf6ba-e401-4312-e2c3-14ef18a79875"
      },
      "source": [
        "x = 0\n",
        "condicao = True\n",
        "\n",
        "while(condicao):\n",
        "  valor = float(input(\"Digite o preço: \"))\n",
        "  if(valor != 0):\n",
        "    x = x + valor\n",
        "  condicao = valor != 0\n",
        "\n",
        "print(\"O total é de R$ \", x)"
      ],
      "execution_count": null,
      "outputs": [
        {
          "output_type": "stream",
          "text": [
            "Digite o preço: 12\n",
            "Digite o preço: 13\n",
            "Digite o preço: 11\n",
            "Digite o preço: 0\n",
            "O total é de R$  36.0\n"
          ],
          "name": "stdout"
        }
      ]
    },
    {
      "cell_type": "markdown",
      "metadata": {
        "id": "MXlrL4hjW-14",
        "colab_type": "text"
      },
      "source": [
        "Elabore um algoritmo que leia idades de um grupo de pessoas e,\n",
        "calcule e mostre a média das idades lidas. O algoritmo deverá ser\n",
        "encerrado quando a idade lida for zero"
      ]
    },
    {
      "cell_type": "code",
      "metadata": {
        "id": "UryUwyfdXDIS",
        "colab_type": "code",
        "colab": {
          "base_uri": "https://localhost:8080/",
          "height": 527
        },
        "outputId": "80f66a73-9798-4eda-c53b-92aac6c3e1d7"
      },
      "source": [
        "condicao = True\n",
        "idade = 0\n",
        "qtd = 0\n",
        "x = 0\n",
        "\n",
        "while(condicao):\n",
        "  idade = int(input(\"Digite uma idade: \"))\n",
        "  if idade == 0:\n",
        "    condicao = False\n",
        "  else:\n",
        "    x = x + idade\n",
        "    qtd = qtd + 1\n",
        "    media = x/qtd\n",
        "\n",
        "print(\"A média é de\", media, \"anos.\")"
      ],
      "execution_count": null,
      "outputs": [
        {
          "output_type": "error",
          "ename": "KeyboardInterrupt",
          "evalue": "ignored",
          "traceback": [
            "\u001b[0;31m---------------------------------------------------------------------------\u001b[0m",
            "\u001b[0;31mKeyboardInterrupt\u001b[0m                         Traceback (most recent call last)",
            "\u001b[0;32m/usr/local/lib/python3.6/dist-packages/ipykernel/kernelbase.py\u001b[0m in \u001b[0;36m_input_request\u001b[0;34m(self, prompt, ident, parent, password)\u001b[0m\n\u001b[1;32m    728\u001b[0m             \u001b[0;32mtry\u001b[0m\u001b[0;34m:\u001b[0m\u001b[0;34m\u001b[0m\u001b[0;34m\u001b[0m\u001b[0m\n\u001b[0;32m--> 729\u001b[0;31m                 \u001b[0mident\u001b[0m\u001b[0;34m,\u001b[0m \u001b[0mreply\u001b[0m \u001b[0;34m=\u001b[0m \u001b[0mself\u001b[0m\u001b[0;34m.\u001b[0m\u001b[0msession\u001b[0m\u001b[0;34m.\u001b[0m\u001b[0mrecv\u001b[0m\u001b[0;34m(\u001b[0m\u001b[0mself\u001b[0m\u001b[0;34m.\u001b[0m\u001b[0mstdin_socket\u001b[0m\u001b[0;34m,\u001b[0m \u001b[0;36m0\u001b[0m\u001b[0;34m)\u001b[0m\u001b[0;34m\u001b[0m\u001b[0;34m\u001b[0m\u001b[0m\n\u001b[0m\u001b[1;32m    730\u001b[0m             \u001b[0;32mexcept\u001b[0m \u001b[0mException\u001b[0m\u001b[0;34m:\u001b[0m\u001b[0;34m\u001b[0m\u001b[0;34m\u001b[0m\u001b[0m\n",
            "\u001b[0;32m/usr/local/lib/python3.6/dist-packages/jupyter_client/session.py\u001b[0m in \u001b[0;36mrecv\u001b[0;34m(self, socket, mode, content, copy)\u001b[0m\n\u001b[1;32m    802\u001b[0m         \u001b[0;32mtry\u001b[0m\u001b[0;34m:\u001b[0m\u001b[0;34m\u001b[0m\u001b[0;34m\u001b[0m\u001b[0m\n\u001b[0;32m--> 803\u001b[0;31m             \u001b[0mmsg_list\u001b[0m \u001b[0;34m=\u001b[0m \u001b[0msocket\u001b[0m\u001b[0;34m.\u001b[0m\u001b[0mrecv_multipart\u001b[0m\u001b[0;34m(\u001b[0m\u001b[0mmode\u001b[0m\u001b[0;34m,\u001b[0m \u001b[0mcopy\u001b[0m\u001b[0;34m=\u001b[0m\u001b[0mcopy\u001b[0m\u001b[0;34m)\u001b[0m\u001b[0;34m\u001b[0m\u001b[0;34m\u001b[0m\u001b[0m\n\u001b[0m\u001b[1;32m    804\u001b[0m         \u001b[0;32mexcept\u001b[0m \u001b[0mzmq\u001b[0m\u001b[0;34m.\u001b[0m\u001b[0mZMQError\u001b[0m \u001b[0;32mas\u001b[0m \u001b[0me\u001b[0m\u001b[0;34m:\u001b[0m\u001b[0;34m\u001b[0m\u001b[0;34m\u001b[0m\u001b[0m\n",
            "\u001b[0;32m/usr/local/lib/python3.6/dist-packages/zmq/sugar/socket.py\u001b[0m in \u001b[0;36mrecv_multipart\u001b[0;34m(self, flags, copy, track)\u001b[0m\n\u001b[1;32m    474\u001b[0m         \"\"\"\n\u001b[0;32m--> 475\u001b[0;31m         \u001b[0mparts\u001b[0m \u001b[0;34m=\u001b[0m \u001b[0;34m[\u001b[0m\u001b[0mself\u001b[0m\u001b[0;34m.\u001b[0m\u001b[0mrecv\u001b[0m\u001b[0;34m(\u001b[0m\u001b[0mflags\u001b[0m\u001b[0;34m,\u001b[0m \u001b[0mcopy\u001b[0m\u001b[0;34m=\u001b[0m\u001b[0mcopy\u001b[0m\u001b[0;34m,\u001b[0m \u001b[0mtrack\u001b[0m\u001b[0;34m=\u001b[0m\u001b[0mtrack\u001b[0m\u001b[0;34m)\u001b[0m\u001b[0;34m]\u001b[0m\u001b[0;34m\u001b[0m\u001b[0;34m\u001b[0m\u001b[0m\n\u001b[0m\u001b[1;32m    476\u001b[0m         \u001b[0;31m# have first part already, only loop while more to receive\u001b[0m\u001b[0;34m\u001b[0m\u001b[0;34m\u001b[0m\u001b[0;34m\u001b[0m\u001b[0m\n",
            "\u001b[0;32mzmq/backend/cython/socket.pyx\u001b[0m in \u001b[0;36mzmq.backend.cython.socket.Socket.recv\u001b[0;34m()\u001b[0m\n",
            "\u001b[0;32mzmq/backend/cython/socket.pyx\u001b[0m in \u001b[0;36mzmq.backend.cython.socket.Socket.recv\u001b[0;34m()\u001b[0m\n",
            "\u001b[0;32mzmq/backend/cython/socket.pyx\u001b[0m in \u001b[0;36mzmq.backend.cython.socket._recv_copy\u001b[0;34m()\u001b[0m\n",
            "\u001b[0;32m/usr/local/lib/python3.6/dist-packages/zmq/backend/cython/checkrc.pxd\u001b[0m in \u001b[0;36mzmq.backend.cython.checkrc._check_rc\u001b[0;34m()\u001b[0m\n",
            "\u001b[0;31mKeyboardInterrupt\u001b[0m: ",
            "\nDuring handling of the above exception, another exception occurred:\n",
            "\u001b[0;31mKeyboardInterrupt\u001b[0m                         Traceback (most recent call last)",
            "\u001b[0;32m<ipython-input-10-b29b98d85549>\u001b[0m in \u001b[0;36m<module>\u001b[0;34m()\u001b[0m\n\u001b[1;32m      5\u001b[0m \u001b[0;34m\u001b[0m\u001b[0m\n\u001b[1;32m      6\u001b[0m \u001b[0;32mwhile\u001b[0m\u001b[0;34m(\u001b[0m\u001b[0mcondicao\u001b[0m\u001b[0;34m)\u001b[0m\u001b[0;34m:\u001b[0m\u001b[0;34m\u001b[0m\u001b[0;34m\u001b[0m\u001b[0m\n\u001b[0;32m----> 7\u001b[0;31m   \u001b[0midade\u001b[0m \u001b[0;34m=\u001b[0m \u001b[0mint\u001b[0m\u001b[0;34m(\u001b[0m\u001b[0minput\u001b[0m\u001b[0;34m(\u001b[0m\u001b[0;34m\"Digite uma idade: \"\u001b[0m\u001b[0;34m)\u001b[0m\u001b[0;34m)\u001b[0m\u001b[0;34m\u001b[0m\u001b[0;34m\u001b[0m\u001b[0m\n\u001b[0m\u001b[1;32m      8\u001b[0m   \u001b[0;32mif\u001b[0m \u001b[0midade\u001b[0m \u001b[0;34m==\u001b[0m \u001b[0;36m0\u001b[0m\u001b[0;34m:\u001b[0m\u001b[0;34m\u001b[0m\u001b[0;34m\u001b[0m\u001b[0m\n\u001b[1;32m      9\u001b[0m     \u001b[0mcondicao\u001b[0m \u001b[0;34m=\u001b[0m \u001b[0;32mFalse\u001b[0m\u001b[0;34m\u001b[0m\u001b[0;34m\u001b[0m\u001b[0m\n",
            "\u001b[0;32m/usr/local/lib/python3.6/dist-packages/ipykernel/kernelbase.py\u001b[0m in \u001b[0;36mraw_input\u001b[0;34m(self, prompt)\u001b[0m\n\u001b[1;32m    702\u001b[0m             \u001b[0mself\u001b[0m\u001b[0;34m.\u001b[0m\u001b[0m_parent_ident\u001b[0m\u001b[0;34m,\u001b[0m\u001b[0;34m\u001b[0m\u001b[0;34m\u001b[0m\u001b[0m\n\u001b[1;32m    703\u001b[0m             \u001b[0mself\u001b[0m\u001b[0;34m.\u001b[0m\u001b[0m_parent_header\u001b[0m\u001b[0;34m,\u001b[0m\u001b[0;34m\u001b[0m\u001b[0;34m\u001b[0m\u001b[0m\n\u001b[0;32m--> 704\u001b[0;31m             \u001b[0mpassword\u001b[0m\u001b[0;34m=\u001b[0m\u001b[0;32mFalse\u001b[0m\u001b[0;34m,\u001b[0m\u001b[0;34m\u001b[0m\u001b[0;34m\u001b[0m\u001b[0m\n\u001b[0m\u001b[1;32m    705\u001b[0m         )\n\u001b[1;32m    706\u001b[0m \u001b[0;34m\u001b[0m\u001b[0m\n",
            "\u001b[0;32m/usr/local/lib/python3.6/dist-packages/ipykernel/kernelbase.py\u001b[0m in \u001b[0;36m_input_request\u001b[0;34m(self, prompt, ident, parent, password)\u001b[0m\n\u001b[1;32m    732\u001b[0m             \u001b[0;32mexcept\u001b[0m \u001b[0mKeyboardInterrupt\u001b[0m\u001b[0;34m:\u001b[0m\u001b[0;34m\u001b[0m\u001b[0;34m\u001b[0m\u001b[0m\n\u001b[1;32m    733\u001b[0m                 \u001b[0;31m# re-raise KeyboardInterrupt, to truncate traceback\u001b[0m\u001b[0;34m\u001b[0m\u001b[0;34m\u001b[0m\u001b[0;34m\u001b[0m\u001b[0m\n\u001b[0;32m--> 734\u001b[0;31m                 \u001b[0;32mraise\u001b[0m \u001b[0mKeyboardInterrupt\u001b[0m\u001b[0;34m\u001b[0m\u001b[0;34m\u001b[0m\u001b[0m\n\u001b[0m\u001b[1;32m    735\u001b[0m             \u001b[0;32melse\u001b[0m\u001b[0;34m:\u001b[0m\u001b[0;34m\u001b[0m\u001b[0;34m\u001b[0m\u001b[0m\n\u001b[1;32m    736\u001b[0m                 \u001b[0;32mbreak\u001b[0m\u001b[0;34m\u001b[0m\u001b[0;34m\u001b[0m\u001b[0m\n",
            "\u001b[0;31mKeyboardInterrupt\u001b[0m: "
          ]
        }
      ]
    },
    {
      "cell_type": "markdown",
      "metadata": {
        "id": "30I0-ijFXNp1",
        "colab_type": "text"
      },
      "source": [
        "Elabore um algoritmo para resolver uma operação aritmética\n",
        "escolhida pelo usuário. Para isto leia dois operandos (números reais)\n",
        "e um operador (caractere: + * - /). O algoritmo deverá realizar a\n",
        "operação escolhida entre os valores lidos. Encerrar o algoritmo\n",
        "quando o operador lido for o caractere ‘#’."
      ]
    },
    {
      "cell_type": "code",
      "metadata": {
        "id": "JW5B7dSlXRI2",
        "colab_type": "code",
        "colab": {
          "base_uri": "https://localhost:8080/",
          "height": 68
        },
        "outputId": "f55dc320-7e1a-4276-b1e2-c958128290d6"
      },
      "source": [
        "condicao = True\n",
        "\n",
        "while(condicao):\n",
        "  n1 = float(input(\"Digite o primeiro número: \"))\n",
        "  n2 = float(input(\"Digite o segundo número: \"))\n",
        "  op = input(\"Digite um operador matemático: + - * / \")\n",
        "  if op == \"#\":\n",
        "    condicao = False\n",
        "  else:\n",
        "    if op == '+':\n",
        "      print(n1 + n2)\n",
        "    elif op == '-':\n",
        "      print(n1 - n2)\n",
        "    elif op == \"*\":\n",
        "      print(n1 * n2)\n",
        "    elif op == \"/\":\n",
        "      print(n1 / n2)\n",
        "    else:\n",
        "      print(\"Digite corretamente\") "
      ],
      "execution_count": null,
      "outputs": [
        {
          "output_type": "stream",
          "text": [
            "Digite o primeiro número: 1\n",
            "Digite o segundo número: 0\n",
            "Digite um operador matemático: + - * / #\n"
          ],
          "name": "stdout"
        }
      ]
    },
    {
      "cell_type": "markdown",
      "metadata": {
        "id": "9WiY9qQYaDYS",
        "colab_type": "text"
      },
      "source": [
        "Faça um algoritmo que mostre a TABUADA de multiplicação (0\n",
        "a 10) de um número escolhido pelo usuário."
      ]
    },
    {
      "cell_type": "code",
      "metadata": {
        "id": "rYnnvxOcaCtc",
        "colab_type": "code",
        "colab": {
          "base_uri": "https://localhost:8080/",
          "height": 221
        },
        "outputId": "58a4b075-8aa8-4157-f722-a2457ade8040"
      },
      "source": [
        "num = int(input(\"Digite o número \"))\n",
        "x = 0\n",
        "\n",
        "while (x <= 10):\n",
        "    print(\"{} x {} = {}\".format(num, x, x*num))\n",
        "    x = x + 1"
      ],
      "execution_count": null,
      "outputs": [
        {
          "output_type": "stream",
          "text": [
            "Digite o número 2\n",
            "2 x 0 = 0\n",
            "2 x 1 = 2\n",
            "2 x 2 = 4\n",
            "2 x 3 = 6\n",
            "2 x 4 = 8\n",
            "2 x 5 = 10\n",
            "2 x 6 = 12\n",
            "2 x 7 = 14\n",
            "2 x 8 = 16\n",
            "2 x 9 = 18\n",
            "2 x 10 = 20\n"
          ],
          "name": "stdout"
        }
      ]
    },
    {
      "cell_type": "markdown",
      "metadata": {
        "id": "_2aggnthZizi",
        "colab_type": "text"
      },
      "source": [
        "Considerando uma classe com 5 alunos, elabore um algoritmo\n",
        "que leia duas notas de cada aluno, calcule a média e verifique se\n",
        "aluno foi aprovado ou reprovado. Para estar aprovado a média\n",
        "deverá ser maior ou igual a 6.\n",
        "\n",
        "4.) Melhore o algoritmo do exercício 3, e determine a quantidade de\n",
        "alunos aprovados e reprovados na referida classe.\n",
        "Elabore um algoritmo que melhore o algoritmo do exercício 3,\n",
        "calculando a média geral da classe (somar todas as médias e depois\n",
        "dividi-la pelo total de alunos da turma)."
      ]
    },
    {
      "cell_type": "code",
      "metadata": {
        "id": "4P205q9jZh66",
        "colab_type": "code",
        "colab": {
          "base_uri": "https://localhost:8080/",
          "height": 306
        },
        "outputId": "daa8a40e-8ac1-497b-e446-9a8deedded6b"
      },
      "source": [
        "print(\"Digite as notas\")\n",
        "aluno = 1\n",
        "contApr = 0\n",
        "contRep = 0\n",
        "mediaGeral = 0\n",
        "while (aluno <= 5):\n",
        "    n1 = float(input(\"Digite a nota 1 (entre 0 e 10): \"))\n",
        "    n2 = float(input(\"digite a nota 2 (entre 0 e 10): \"))\n",
        "    media = (n1 + n2)/2\n",
        "    if media >= 6:\n",
        "      print(\"Aluno {} aprovado com media {}\".format(aluno,  media))\n",
        "      contApr += 1\n",
        "      mediaGeral = mediaGeral + media\n",
        "    else:\n",
        "      print(\"Aluno {} reprovado com media {}\".format(aluno,  media))\n",
        "      contRep += 1\n",
        "    aluno += 1\n",
        "\n",
        "print(\"Qtd aprovados\",contApr, \"reprov\", contRep, \"media geral\", mediaGeral/5)"
      ],
      "execution_count": null,
      "outputs": [
        {
          "output_type": "stream",
          "text": [
            "Digite as notas\n",
            "digite a nota 12\n",
            "digite a nota 28\n",
            "Aluno 1 reprovado com media 5.0\n",
            "digite a nota 18\n",
            "digite a nota 29\n",
            "Aluno 2 aprovado com media 8.5\n",
            "digite a nota 10\n",
            "digite a nota 20\n",
            "Aluno 3 reprovado com media 0.0\n",
            "digite a nota 112\n",
            "digite a nota 211\n",
            "Aluno 4 aprovado com media 11.5\n",
            "digite a nota 12\n",
            "digite a nota 24\n",
            "Aluno 5 reprovado com media 3.0\n",
            "Qtd aprovados 2 reprov 3 media geral 4.0\n"
          ],
          "name": "stdout"
        }
      ]
    },
    {
      "cell_type": "markdown",
      "metadata": {
        "id": "cM4WizaDaWS8",
        "colab_type": "text"
      },
      "source": [
        "Elabore um algoritmo que leia um número e calcule a soma dos\n",
        "número menores ou iguais a ele, começando pelo 1.\n",
        "\n",
        "Ex. para num == 10, o algoritmo deverá calcular:\n",
        "1+2+3+4+5+6+7+8+9+10= 55"
      ]
    },
    {
      "cell_type": "code",
      "metadata": {
        "id": "I0JDbd2aaWF3",
        "colab_type": "code",
        "colab": {
          "base_uri": "https://localhost:8080/",
          "height": 153
        },
        "outputId": "af6f8522-e4a4-43af-b44b-f4d6aec6bd34"
      },
      "source": [
        "num = int(input(\"Digite um valor: \"))\n",
        "soma = 0\n",
        "while num > 0:\n",
        "    print(num, \"+\", \"\\n\")\n",
        "    soma = soma + num\n",
        "    num = num - 1\n",
        "\n",
        "print(\"A soma de todos os numeros menores ou iguais ao numero digitado e de\", soma)"
      ],
      "execution_count": null,
      "outputs": [
        {
          "output_type": "stream",
          "text": [
            "Digite um valor: 3\n",
            "3 + \n",
            "\n",
            "2 + \n",
            "\n",
            "1 + \n",
            "\n",
            "A soma de todos os numeros menores ou iguais ao numero digitado e de 6\n"
          ],
          "name": "stdout"
        }
      ]
    }
  ]
}