{
  "nbformat": 4,
  "nbformat_minor": 0,
  "metadata": {
    "colab": {
      "name": "while.ipynb",
      "provenance": [],
      "collapsed_sections": [],
      "authorship_tag": "ABX9TyN+rKjff6rbZs6mhwOb6TYu",
      "include_colab_link": true
    },
    "kernelspec": {
      "name": "python3",
      "display_name": "Python 3"
    },
    "accelerator": "GPU"
  },
  "cells": [
    {
      "cell_type": "markdown",
      "metadata": {
        "id": "view-in-github",
        "colab_type": "text"
      },
      "source": [
        "<a href=\"https://colab.research.google.com/github/stephanierufino/exercicios_python/blob/master/while.ipynb\" target=\"_parent\"><img src=\"https://colab.research.google.com/assets/colab-badge.svg\" alt=\"Open In Colab\"/></a>"
      ]
    },
    {
      "cell_type": "markdown",
      "metadata": {
        "id": "7frBhVMMqEMJ",
        "colab_type": "text"
      },
      "source": [
        "# **While**\n",
        "\n",
        "A estrutura de controle de repetição *while* pode ser interpretada como a palavra\"enquanto\", ou seja, o algoritmo pré-determinado será repetido enquanto a lógica do bloco for verdadeira. Quando a lógica se tornar falsa, o bloco deixa de ser executado.\n",
        "\n",
        "> Como exemplo, temos um algoritmo que mostra os números de 50 a 100."
      ]
    },
    {
      "cell_type": "code",
      "metadata": {
        "id": "xdmYj34UxfOl",
        "colab_type": "code",
        "colab": {}
      },
      "source": [
        "x = 50\n",
        "\n",
        "while x <= 100:\n",
        "\n",
        "  print (x)\n",
        "  x+=1"
      ],
      "execution_count": null,
      "outputs": []
    },
    {
      "cell_type": "markdown",
      "metadata": {
        "id": "mj-yQ-7pT7cY",
        "colab_type": "text"
      },
      "source": [
        "Abaixo, exercícios envolvendo *while*.\n",
        "\n",
        "> 1) Faça um algoritmo que mostre os números de 1 a 60."
      ]
    },
    {
      "cell_type": "code",
      "metadata": {
        "id": "WGqSgjuwxidw",
        "colab_type": "code",
        "colab": {}
      },
      "source": [
        "x = 1\n",
        "\n",
        "while x <= 60:\n",
        "\n",
        "  print (x)\n",
        "  x+=1"
      ],
      "execution_count": null,
      "outputs": []
    },
    {
      "cell_type": "markdown",
      "metadata": {
        "id": "FLhzes9vRGhq",
        "colab_type": "text"
      },
      "source": [
        "> 2) Faça um algoritmo que peça ao usuário para digitar um número inteiro de modo que seja impressa a sequência de números, começando por 0."
      ]
    },
    {
      "cell_type": "code",
      "metadata": {
        "id": "0ZtpnPHjxlMr",
        "colab_type": "code",
        "colab": {}
      },
      "source": [
        "fim = int(input(\"Digite o n final: \"))\n",
        "x = 0\n",
        "\n",
        "while(x<=fim):\n",
        "    print(x)\n",
        "    x = x + 1"
      ],
      "execution_count": null,
      "outputs": []
    },
    {
      "cell_type": "markdown",
      "metadata": {
        "id": "paMuiABxTPfq",
        "colab_type": "text"
      },
      "source": [
        "> 3) Elabore um algoritmo que faça a contagem regressiva de um\n",
        "foguete. O programa deve mostrar: \"5,4, … 1, 0, FOGO!\""
      ]
    },
    {
      "cell_type": "code",
      "metadata": {
        "id": "MWHEodt5xpz_",
        "colab_type": "code",
        "colab": {}
      },
      "source": [
        "x = 5\n",
        "while x >= 0:\n",
        "    print(x)\n",
        "    x = x - 1\n",
        "print(\"Fogo!!!\")"
      ],
      "execution_count": null,
      "outputs": []
    },
    {
      "cell_type": "markdown",
      "metadata": {
        "id": "f3Jhz16_VelK",
        "colab_type": "text"
      },
      "source": [
        "> 4) Elabore um algoritmo em que o usuário digita um número final e imprima a sequência dos numeros pares, começando por 2 e indo até o número digitado."
      ]
    },
    {
      "cell_type": "code",
      "metadata": {
        "id": "3gANcdA_xtbc",
        "colab_type": "code",
        "colab": {}
      },
      "source": [
        "fim = int(input(\"Digite o n final: \"))\n",
        "x = 2\n",
        "\n",
        "while(x <= fim):\n",
        "    if x % 2 == 0:\n",
        "        print(x)\n",
        "    x = x + 1"
      ],
      "execution_count": null,
      "outputs": []
    },
    {
      "cell_type": "markdown",
      "metadata": {
        "id": "d5P9dyr2ZIpN",
        "colab_type": "text"
      },
      "source": [
        "> 5) Faça um algoritmo que mostre apenas os números ímpares, de 1\n",
        "até um valor definido pelo usuário."
      ]
    },
    {
      "cell_type": "code",
      "metadata": {
        "id": "V3_cqcSHxwhu",
        "colab_type": "code",
        "colab": {}
      },
      "source": [
        "fim = int(input(\"Digite o número final: \"))\n",
        "x = 0\n",
        "\n",
        "while(x <= fim):\n",
        "    if x % 2 != 0:\n",
        "        print(x)\n",
        "    x = x + 1"
      ],
      "execution_count": null,
      "outputs": []
    },
    {
      "cell_type": "markdown",
      "metadata": {
        "id": "zKvEtvfVYmOq",
        "colab_type": "text"
      },
      "source": [
        "> 6) Elabore um algoritmo que leia uma nota válida, ou seja, ela deve ser maior ou igual a 0 e menor ou igual a 10. Caso uma nota lida seja inválida, repetir a entrada de dados."
      ]
    },
    {
      "cell_type": "code",
      "metadata": {
        "id": "KG3XZyAkxzmm",
        "colab_type": "code",
        "colab": {}
      },
      "source": [
        "nota = -1\n",
        "while(nota < 0 or nota > 10):\n",
        "  nota = float(input(\"Digite uma nota para encerrar: \"))\n",
        "  if nota < 0 or nota > 10:\n",
        "    print(\"Digite uma nota correta\")\n",
        "else:\n",
        "    print (\"Ok\")"
      ],
      "execution_count": null,
      "outputs": []
    },
    {
      "cell_type": "markdown",
      "metadata": {
        "id": "STIqClvVWnba",
        "colab_type": "text"
      },
      "source": [
        "> 7) Elabore um algoritmo que leia preços de produtos e calcule o\n",
        "total da compra. O algoritmo deve ser encerrado quando for digitado 0."
      ]
    },
    {
      "cell_type": "code",
      "metadata": {
        "id": "fei8tri6x80M",
        "colab_type": "code",
        "colab": {}
      },
      "source": [
        "x = 0\n",
        "condicao = True\n",
        "\n",
        "while(condicao):\n",
        "  valor = float(input(\"Digite o preço do produto ou digite 0 para encerrar a compra: \"))\n",
        "  if(valor != 0):\n",
        "    x = x + valor\n",
        "  condicao = valor != 0\n",
        "\n",
        "print(\"O total da compra é de R$ \", x)"
      ],
      "execution_count": null,
      "outputs": []
    },
    {
      "cell_type": "markdown",
      "metadata": {
        "id": "MXlrL4hjW-14",
        "colab_type": "text"
      },
      "source": [
        "> 8) Elabore um algoritmo que leia idades de um grupo de pessoas e\n",
        "calcule e mostre a média das idades lidas. O algoritmo deverá ser\n",
        "encerrado quando a idade lida for 0."
      ]
    },
    {
      "cell_type": "code",
      "metadata": {
        "id": "rvlj4tilx_1i",
        "colab_type": "code",
        "colab": {}
      },
      "source": [
        "condicao = True\n",
        "idade = 0\n",
        "qtd = 0\n",
        "x = 0\n",
        "\n",
        "while(condicao):\n",
        "  idade = int(input(\"Digite uma idade: \"))\n",
        "  if idade == 0:\n",
        "    condicao = False\n",
        "  else:\n",
        "    x = x + idade\n",
        "    qtd = qtd + 1\n",
        "    media = x/qtd\n",
        "\n",
        "print(\"A média é de\", media, \"anos.\")"
      ],
      "execution_count": null,
      "outputs": []
    },
    {
      "cell_type": "markdown",
      "metadata": {
        "id": "30I0-ijFXNp1",
        "colab_type": "text"
      },
      "source": [
        "> 9) Elabore um algoritmo para resolver uma operação aritmética\n",
        "escolhida pelo usuário (caractere: + * - /). Para isto o algoritmo deve ler dois números reais e o operador. O algoritmo deve realizar a\n",
        "operação escolhida e ser encerrada quando o operador lido for o caractere \"#\"."
      ]
    },
    {
      "cell_type": "code",
      "metadata": {
        "id": "F0J-XyLQyQrB",
        "colab_type": "code",
        "colab": {}
      },
      "source": [
        "condicao = True\n",
        "\n",
        "while(condicao):\n",
        "  n1 = float(input(\"Digite o primeiro número: \"))\n",
        "  n2 = float(input(\"Digite o segundo número: \"))\n",
        "  op = input(\"Digite um operador matemático  (+ - * /) ou digite # para encerrar: \")\n",
        "  if op == \"#\":\n",
        "    condicao = False\n",
        "  else:\n",
        "    if op == '+':\n",
        "      print(n1 + n2)\n",
        "    elif op == '-':\n",
        "      print(n1 - n2)\n",
        "    elif op == \"*\":\n",
        "      print(n1 * n2)\n",
        "    elif op == \"/\":\n",
        "      print(n1 / n2)\n",
        "    else:\n",
        "      print(\"Digite corretamente\") "
      ],
      "execution_count": null,
      "outputs": []
    },
    {
      "cell_type": "markdown",
      "metadata": {
        "id": "9WiY9qQYaDYS",
        "colab_type": "text"
      },
      "source": [
        ">10) Faça um algoritmo que mostre a tabuada de multiplicação de 0\n",
        "a 10 de um número escolhido pelo usuário."
      ]
    },
    {
      "cell_type": "code",
      "metadata": {
        "id": "8SCtAnANyUW2",
        "colab_type": "code",
        "colab": {}
      },
      "source": [
        "num = int(input(\"Digite o número \"))\n",
        "x = 0\n",
        "\n",
        "while (x <= 10):\n",
        "    print(\"{} x {} = {}\".format(num, x, x*num))\n",
        "    x = x + 1"
      ],
      "execution_count": null,
      "outputs": []
    },
    {
      "cell_type": "markdown",
      "metadata": {
        "id": "_2aggnthZizi",
        "colab_type": "text"
      },
      "source": [
        "> 11) Considerando uma classe com cinco alunos, elabore um algoritmo\n",
        "que leia duas notas de cada aluno, calcule a média e verifique se\n",
        "aluno foi aprovado ou reprovado (aprovado: média maior ou igual a 6). Após isso, determine a quantidade de alunos aprovados e reprovados na referida classe e calcule a média geral da classe."
      ]
    },
    {
      "cell_type": "code",
      "metadata": {
        "id": "fxFg5mGiy4oR",
        "colab_type": "code",
        "colab": {}
      },
      "source": [
        "print(\"Digite as notas\")\n",
        "aluno = 1\n",
        "contApr = 0\n",
        "contRep = 0\n",
        "mediaGeral = 0\n",
        "while (aluno <= 5):\n",
        "    n1 = float(input(\"Digite a nota 1 (entre 0 e 10): \"))\n",
        "    n2 = float(input(\"Digite a nota 2 (entre 0 e 10): \"))\n",
        "    media = (n1 + n2)/2\n",
        "    if media >= 6:\n",
        "      print(\"Aluno {} aprovado com média {}\".format(aluno,  media))\n",
        "      contApr += 1\n",
        "      mediaGeral = mediaGeral + media\n",
        "    else:\n",
        "      print(\"Aluno {} reprovado com média {}\".format(aluno,  media))\n",
        "      contRep += 1\n",
        "    aluno += 1\n",
        "\n",
        "print(\"Quantidade de aprovados\",contApr, \", quantidade de reprovados\", contRep, \" e média geral da turma\", mediaGeral/5)"
      ],
      "execution_count": null,
      "outputs": []
    },
    {
      "cell_type": "markdown",
      "metadata": {
        "id": "cM4WizaDaWS8",
        "colab_type": "text"
      },
      "source": [
        "> 12) Elabore um algoritmo que leia um número e calcule a soma dos\n",
        "números anteriores menores e iguais a ele, começando por 1.\n"
      ]
    },
    {
      "cell_type": "code",
      "metadata": {
        "id": "ZlS3FlgKy7tW",
        "colab_type": "code",
        "colab": {}
      },
      "source": [
        "num = int(input(\"Digite um valor: \"))\n",
        "soma = 0\n",
        "while num > 0:\n",
        "    print(num, \"+\", \"\\n\")\n",
        "    soma = soma + num\n",
        "    num = num - 1\n",
        "\n",
        "print(\"A soma de todos os números menores ou iguais ao número digitado é de\", soma)"
      ],
      "execution_count": null,
      "outputs": []
    }
  ]
}