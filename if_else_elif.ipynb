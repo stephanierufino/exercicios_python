{
  "nbformat": 4,
  "nbformat_minor": 0,
  "metadata": {
    "colab": {
      "name": "if_else_elif.ipynb",
      "provenance": [],
      "authorship_tag": "ABX9TyN19ortVnrMQqwfHw9p6SDP",
      "include_colab_link": true
    },
    "kernelspec": {
      "name": "python3",
      "display_name": "Python 3"
    }
  },
  "cells": [
    {
      "cell_type": "markdown",
      "metadata": {
        "id": "view-in-github",
        "colab_type": "text"
      },
      "source": [
        "<a href=\"https://colab.research.google.com/github/stephanierufino/exercicios_python/blob/master/if_else_elif.ipynb\" target=\"_parent\"><img src=\"https://colab.research.google.com/assets/colab-badge.svg\" alt=\"Open In Colab\"/></a>"
      ]
    },
    {
      "cell_type": "markdown",
      "metadata": {
        "id": "aBNOCPwn_lKi",
        "colab_type": "text"
      },
      "source": [
        "# **Estruturas de selecao - If/else e elif**\n",
        "\n",
        "Em Python, a condicao *if* serve para executar um comando quando determinada condicao e verdadeira.\n",
        "\n",
        "\n",
        "\n",
        "\n",
        "\n"
      ]
    },
    {
      "cell_type": "code",
      "metadata": {
        "id": "WfE9PYFpBEIJ",
        "colab_type": "code",
        "colab": {
          "base_uri": "https://localhost:8080/",
          "height": 34
        },
        "outputId": "978a1b78-f1c4-4f53-e9ce-f0fb31b025c3"
      },
      "source": [
        "valor = 7\n",
        "if valor == 7:\n",
        "  print (\"o valor e 7\")"
      ],
      "execution_count": 2,
      "outputs": [
        {
          "output_type": "stream",
          "text": [
            "o valor e 7\n"
          ],
          "name": "stdout"
        }
      ]
    },
    {
      "cell_type": "markdown",
      "metadata": {
        "id": "p4GCVBNsBgmh",
        "colab_type": "text"
      },
      "source": [
        "Em *if/else*, a primeira condicao, dentro do bloco do if, sempre sera verdadeira, quando ela for falsa, ela estara no bloco do else.\n"
      ]
    },
    {
      "cell_type": "code",
      "metadata": {
        "colab_type": "code",
        "id": "nYb51xEuCTG5",
        "colab": {
          "base_uri": "https://localhost:8080/",
          "height": 34
        },
        "outputId": "b3445304-a017-42dd-ca73-8558559eadd1"
      },
      "source": [
        "valor2 = 9\n",
        "if valor2 <= 5:\n",
        "  print (\"o valor e menor ou igual a 5\")\n",
        "else:\n",
        "  print (\"O valor e maior que 5\")"
      ],
      "execution_count": 3,
      "outputs": [
        {
          "output_type": "stream",
          "text": [
            "O valor e maior que 5\n"
          ],
          "name": "stdout"
        }
      ]
    },
    {
      "cell_type": "markdown",
      "metadata": {
        "id": "Sw3ACTmSCuau",
        "colab_type": "text"
      },
      "source": [
        "Uma solucao para nao criar varios if aninhados, e a substituicao de um par if/else por *elif*, para, assim, evitar varias indentacoes a direita.\n",
        "\n",
        "Como exemplo, temos um algortimo para calcular o valor de delta e mostrar quais as raizes da equacao."
      ]
    },
    {
      "cell_type": "code",
      "metadata": {
        "id": "YaXV4cpK-1sq",
        "colab_type": "code",
        "colab": {
          "base_uri": "https://localhost:8080/",
          "height": 85
        },
        "outputId": "9b069a98-ee24-44ab-ee4f-f4774b848285"
      },
      "source": [
        "a = int(input(\"Digite o valor de a: \"))\n",
        "b = int(input(\"Digite o valor de b: \"))\n",
        "c = int(input(\"Digite o valor de c: \"))\n",
        "\n",
        "delta = b*b - (4*a*c)\n",
        "\n",
        "if delta == 0:\n",
        "    iguais = -b / (2*a)\n",
        "    print(\"Delta é 0, as raízes x1 e x2 são iguais com o valor de\", iguais,\".\")\n",
        "elif delta > 0:\n",
        "    x1 = (-b + (delta ** 0.5)) / 2*a\n",
        "    x2 = (-b - (delta ** 0.5)) / 2*a\n",
        "    print(\"As raízes x1 e x2 são reais e diferentes, sendo x1=\",x1, \"e x2=\",x2, \".\")\n",
        "else:\n",
        "    print(\"As raízes x1 e x2 não são reais, elas são complexas.\")"
      ],
      "execution_count": 4,
      "outputs": [
        {
          "output_type": "stream",
          "text": [
            "Digite o valor de a: 2\n",
            "Digite o valor de b: 4\n",
            "Digite o valor de c: 6\n",
            "As raízes x1 e x2 não são reais, elas são complexas.\n"
          ],
          "name": "stdout"
        }
      ]
    },
    {
      "cell_type": "markdown",
      "metadata": {
        "id": "Exm3csZNFfqN",
        "colab_type": "text"
      },
      "source": [
        "Abaixo, alguns exercicios que podem ser resolvidos utilizando if/else ou elif.\n",
        "\n",
        "1) O Indice de Massa corporal e dado pela formula peso dividido por altura ao quadrado. Faca um algortimo que calcule o IMC e defina a condicao de uma pessoa, sabendo que um IMC < 18 e considerado abaixo do peso; entre 18 e 25, normal; entre 25 e 30, acima do peso e maior que 30 obeso.\n",
        "\n"
      ]
    },
    {
      "cell_type": "code",
      "metadata": {
        "id": "LIq0mFIIHIQX",
        "colab_type": "code",
        "colab": {
          "base_uri": "https://localhost:8080/",
          "height": 68
        },
        "outputId": "828cad83-f7bc-457f-eaf5-50001be1eb4d"
      },
      "source": [
        "peso = float(input(\"Digite seu peso em kg \"))\n",
        "altura = float(input(\"Digite sua altura em metros \"))\n",
        "\n",
        "imc = peso/(altura*altura)\n",
        "\n",
        "if imc < 18:\n",
        "    resultado = \"abaixo do peso\"\n",
        "elif 18 <= imc < 25:\n",
        "    resultado = \"com peso ideal\"\n",
        "elif 25 <= imc < 30:\n",
        "    resultado = \"acima do peso\"\n",
        "else:\n",
        "    resultado = \"obeso\"\n",
        "\n",
        "print(\"Você está\", resultado)"
      ],
      "execution_count": 7,
      "outputs": [
        {
          "output_type": "stream",
          "text": [
            "Digite seu peso em kg 117\n",
            "Digite sua altura em metros 1.73\n",
            "Você está obeso\n"
          ],
          "name": "stdout"
        }
      ]
    },
    {
      "cell_type": "markdown",
      "metadata": {
        "id": "csd-gASLHb80",
        "colab_type": "text"
      },
      "source": [
        "2) Todos os dias, um sensor lê a temperatura de um ambiente controlado de uma empresa, em graus Celsius. Faça um algortimo que calcule a temperatura média da semana e se a média for maior que 25 graus, mostrar que a temperatura esta acima da aceitável; entre 18 e 25, temperatura ideal e abaixo de 18, temperatura abaixo do ideal.\n"
      ]
    },
    {
      "cell_type": "code",
      "metadata": {
        "id": "mzrNRstTKBId",
        "colab_type": "code",
        "colab": {
          "base_uri": "https://localhost:8080/",
          "height": 170
        },
        "outputId": "f1425754-8967-42d0-becd-a1cec8e2ce60"
      },
      "source": [
        "t1 = float(input(\"Digite a temperatura de domingo em graus Celsius: \"))\n",
        "t2 = float(input(\"Digite a temperatura de segunda-feira em graus Celsius: \"))\n",
        "t3 = float(input(\"Digite a temperatura de terça-feira em graus Celsius: \"))\n",
        "t4 = float(input(\"Digite a temperatura de quarta-feira em graus Celsius: \"))\n",
        "t5 = float(input(\"Digite a temperatura de quinta-feira em graus Celsius: \"))\n",
        "t6 = float(input(\"Digite a temperatura de sexta-feira em graus Celsius: \"))\n",
        "t7 = float(input(\"Digite a temperatura de sábado em graus Celsius: \"))\n",
        "\n",
        "media = (t1 + t2 + t3 + t4 + t5 + t6 + t7) / 7\n",
        "print(\"A média de temperatura foi de\", media, \"graus Celsius.\")\n",
        "\n",
        "if media > 25:\n",
        "    print(\"Temperatura acima da aceitável.\")\n",
        "elif 18 < media < 25:\n",
        "    print(\"Temperatura ideal.\")\n",
        "else:\n",
        "    print(\"Temperatura abaixo do ideal.\")"
      ],
      "execution_count": 8,
      "outputs": [
        {
          "output_type": "stream",
          "text": [
            "Digite a temperatura de domingo em graus Celsius: 11\n",
            "Digite a temperatura de segunda-feira em graus Celsius: 2\n",
            "Digite a temperatura de terça-feira em graus Celsius: 34\n",
            "Digite a temperatura de quarta-feira em graus Celsius: 23\n",
            "Digite a temperatura de quinta-feira em graus Celsius: 0\n",
            "Digite a temperatura de sexta-feira em graus Celsius: -1\n",
            "Digite a temperatura de sábado em graus Celsius: 2\n",
            "A média de temperatura foi de 10.142857142857142 graus Celsius.\n",
            "Temperatura abaixo do ideal.\n"
          ],
          "name": "stdout"
        }
      ]
    },
    {
      "cell_type": "markdown",
      "metadata": {
        "id": "GEs10H_YMf1L",
        "colab_type": "text"
      },
      "source": [
        "3) Elabore um algoritmo que determine se um ano é ou não\n",
        "bissexto (ele sera bissexto se for divisível por 400 ou se\n",
        "for divisível por 4 e não por 100)."
      ]
    },
    {
      "cell_type": "code",
      "metadata": {
        "id": "aBatKwdzMxbC",
        "colab_type": "code",
        "colab": {
          "base_uri": "https://localhost:8080/",
          "height": 51
        },
        "outputId": "0f2d212b-588c-4e1f-f413-b251894d9df2"
      },
      "source": [
        "ano = int(input(\"Digite o ano: \"))\n",
        "\n",
        "if ano % 400 == 0 or (ano % 4 == 0 and ano % 100 != 0):\n",
        "    print(\"O ano é bissexto.\")\n",
        "else:\n",
        "    print (\"O ano não é bissexto.\")"
      ],
      "execution_count": 10,
      "outputs": [
        {
          "output_type": "stream",
          "text": [
            "Digite o ano: 1994\n",
            "O ano não é bissexto.\n"
          ],
          "name": "stdout"
        }
      ]
    },
    {
      "cell_type": "markdown",
      "metadata": {
        "id": "9IK2IolyM3Az",
        "colab_type": "text"
      },
      "source": [
        "4) Crie um algoritmo que leia 3 medidas e verifique se\n",
        "elas podem ser medidas de um triângulo. Se sim, determine o tipo do\n",
        "triângulo (equilátero, isósceles ou escaleno)."
      ]
    },
    {
      "cell_type": "code",
      "metadata": {
        "id": "GOsMHlORNR_3",
        "colab_type": "code",
        "colab": {
          "base_uri": "https://localhost:8080/",
          "height": 85
        },
        "outputId": "c65da687-24e8-4bcd-c045-594b5ddd4caf"
      },
      "source": [
        "A = int(input(\"Digite o 1º valor: \"))\n",
        "B = int(input(\"Digite o 2º valor: \"))\n",
        "C = int(input(\"Digite o 3º valor: \"))\n",
        "\n",
        "if  (A < B + C) and (A > abs(B -C)) and (B < A + C) and (B > abs(A -C)) and (C < A + B) and (C > abs(A -B)):\n",
        "    print(\"Forma-se um triângulo.\")\n",
        "\n",
        "    if (A == B) and (B == C):\n",
        "        print(\"O triângulo é equilátero.\")\n",
        "    elif (A ==B) or (A == C) or (B == C):\n",
        "        print(\"O triângulo é isósceles.\")\n",
        "    else:\n",
        "        print(\"O triângulo é escaleno.\")\n",
        "\n",
        "else:\n",
        "    print(\"Não forma um triângulo.\")"
      ],
      "execution_count": 13,
      "outputs": [
        {
          "output_type": "stream",
          "text": [
            "Digite o 1º valor: 1\n",
            "Digite o 2º valor: 2\n",
            "Digite o 3º valor: 3\n",
            "Não forma um triângulo.\n"
          ],
          "name": "stdout"
        }
      ]
    }
  ]
}