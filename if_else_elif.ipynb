{
  "nbformat": 4,
  "nbformat_minor": 0,
  "metadata": {
    "colab": {
      "name": "if_else_elif.ipynb",
      "provenance": [],
      "authorship_tag": "ABX9TyNoGpaJX0DJnkFcPATfVVKi",
      "include_colab_link": true
    },
    "kernelspec": {
      "name": "python3",
      "display_name": "Python 3"
    }
  },
  "cells": [
    {
      "cell_type": "markdown",
      "metadata": {
        "id": "view-in-github",
        "colab_type": "text"
      },
      "source": [
        "<a href=\"https://colab.research.google.com/github/stephanierufino/exercicios_python/blob/master/if_else_elif.ipynb\" target=\"_parent\"><img src=\"https://colab.research.google.com/assets/colab-badge.svg\" alt=\"Open In Colab\"/></a>"
      ]
    },
    {
      "cell_type": "code",
      "metadata": {
        "id": "YaXV4cpK-1sq",
        "colab_type": "code",
        "colab": {}
      },
      "source": [
        ""
      ],
      "execution_count": null,
      "outputs": []
    },
    {
      "cell_type": "markdown",
      "metadata": {
        "id": "aBNOCPwn_lKi",
        "colab_type": "text"
      },
      "source": [
        "# **Estruturas de selecao - If/else e elif**\n",
        "\n",
        "Em Python, a condicao *if* serve para executar um comando quando determinada condicao e verdadeira.\n",
        "\n",
        "\n",
        "\n",
        "\n",
        "\n"
      ]
    },
    {
      "cell_type": "code",
      "metadata": {
        "id": "WfE9PYFpBEIJ",
        "colab_type": "code",
        "colab": {
          "base_uri": "https://localhost:8080/",
          "height": 34
        },
        "outputId": "978a1b78-f1c4-4f53-e9ce-f0fb31b025c3"
      },
      "source": [
        "valor = 7\n",
        "if valor == 7:\n",
        "  print (\"o valor e 7\")"
      ],
      "execution_count": 2,
      "outputs": [
        {
          "output_type": "stream",
          "text": [
            "o valor e 7\n"
          ],
          "name": "stdout"
        }
      ]
    },
    {
      "cell_type": "markdown",
      "metadata": {
        "id": "p4GCVBNsBgmh",
        "colab_type": "text"
      },
      "source": [
        "Em *if/else*, a primeira condicao, dentro do bloco do if, sempre sera verdadeira, quando ela foi falsa, ela estara no bloco do else.\n"
      ]
    },
    {
      "cell_type": "code",
      "metadata": {
        "id": "q_9GSJUNBnN5",
        "colab_type": "code",
        "colab": {}
      },
      "source": [
        ""
      ],
      "execution_count": null,
      "outputs": []
    }
  ]
}