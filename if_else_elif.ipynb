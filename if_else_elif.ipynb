{
  "nbformat": 4,
  "nbformat_minor": 0,
  "metadata": {
    "colab": {
      "name": "if_else_elif.ipynb",
      "provenance": [],
      "authorship_tag": "ABX9TyP0YfGVrJKh/8qy+WW/okVw",
      "include_colab_link": true
    },
    "kernelspec": {
      "name": "python3",
      "display_name": "Python 3"
    }
  },
  "cells": [
    {
      "cell_type": "markdown",
      "metadata": {
        "id": "view-in-github",
        "colab_type": "text"
      },
      "source": [
        "<a href=\"https://colab.research.google.com/github/stephanierufino/exercicios_python/blob/master/if_else_elif.ipynb\" target=\"_parent\"><img src=\"https://colab.research.google.com/assets/colab-badge.svg\" alt=\"Open In Colab\"/></a>"
      ]
    },
    {
      "cell_type": "markdown",
      "metadata": {
        "id": "aBNOCPwn_lKi",
        "colab_type": "text"
      },
      "source": [
        "# **Estruturas de seleção - If/else e elif**\n",
        "\n",
        "> Em Python, a condição *if* serve para executar um comando quando determinada condição é verdadeira.\n",
        "\n",
        "\n",
        "\n",
        "\n",
        "\n"
      ]
    },
    {
      "cell_type": "code",
      "metadata": {
        "id": "WfE9PYFpBEIJ",
        "colab_type": "code",
        "colab": {
          "base_uri": "https://localhost:8080/",
          "height": 34
        },
        "outputId": "2df499ff-8a1d-416d-d89e-c60dcaeaf25a"
      },
      "source": [
        "valor = 7\n",
        "if valor == 7:\n",
        "  print (\"O valor é 7.\")"
      ],
      "execution_count": 28,
      "outputs": [
        {
          "output_type": "stream",
          "text": [
            "O valor é 7.\n"
          ],
          "name": "stdout"
        }
      ]
    },
    {
      "cell_type": "markdown",
      "metadata": {
        "id": "p4GCVBNsBgmh",
        "colab_type": "text"
      },
      "source": [
        ">Em *if/else*, a primeira condição, dentro do bloco do if, sempre será verdadeira, quando ela for falsa, ela estará no bloco do else.\n"
      ]
    },
    {
      "cell_type": "code",
      "metadata": {
        "colab_type": "code",
        "id": "nYb51xEuCTG5",
        "colab": {
          "base_uri": "https://localhost:8080/",
          "height": 34
        },
        "outputId": "c39353c6-4db1-459b-f4d2-9a99f19c809d"
      },
      "source": [
        "valor2 = 9\n",
        "if valor2 <= 5:\n",
        "  print (\"O valor é menor ou igual a 5.\")\n",
        "else:\n",
        "  print (\"O valor é maior que 5.\")"
      ],
      "execution_count": 29,
      "outputs": [
        {
          "output_type": "stream",
          "text": [
            "O valor é maior que 5.\n"
          ],
          "name": "stdout"
        }
      ]
    },
    {
      "cell_type": "markdown",
      "metadata": {
        "id": "Sw3ACTmSCuau",
        "colab_type": "text"
      },
      "source": [
        ">Uma solução para não criar diversos *if* aninhados, é a substituição de um par *if/else* por *elif*, evitando, assim várias indentações à direita.\n",
        "\n",
        "Como exemplo, temos um algoritmo para calcular o valor de delta e mostrar quais as raízes da equação."
      ]
    },
    {
      "cell_type": "code",
      "metadata": {
        "id": "YaXV4cpK-1sq",
        "colab_type": "code",
        "colab": {
          "base_uri": "https://localhost:8080/",
          "height": 85
        },
        "outputId": "9b069a98-ee24-44ab-ee4f-f4774b848285"
      },
      "source": [
        "a = int(input(\"Digite o valor de a: \"))\n",
        "b = int(input(\"Digite o valor de b: \"))\n",
        "c = int(input(\"Digite o valor de c: \"))\n",
        "\n",
        "delta = b*b - (4*a*c)\n",
        "\n",
        "if delta == 0:\n",
        "    iguais = -b / (2*a)\n",
        "    print(\"Delta é 0, as raízes x1 e x2 são iguais com o valor de\", iguais,\".\")\n",
        "elif delta > 0:\n",
        "    x1 = (-b + (delta ** 0.5)) / 2*a\n",
        "    x2 = (-b - (delta ** 0.5)) / 2*a\n",
        "    print(\"As raízes x1 e x2 são reais e diferentes, sendo x1=\",x1, \"e x2=\",x2, \".\")\n",
        "else:\n",
        "    print(\"As raízes x1 e x2 não são reais, elas são complexas.\")"
      ],
      "execution_count": 4,
      "outputs": [
        {
          "output_type": "stream",
          "text": [
            "Digite o valor de a: 2\n",
            "Digite o valor de b: 4\n",
            "Digite o valor de c: 6\n",
            "As raízes x1 e x2 não são reais, elas são complexas.\n"
          ],
          "name": "stdout"
        }
      ]
    },
    {
      "cell_type": "markdown",
      "metadata": {
        "id": "Exm3csZNFfqN",
        "colab_type": "text"
      },
      "source": [
        ">Abaixo, alguns exercícios que podem ser resolvidos utilizando *if/else* ou *elif*.\n",
        "\n",
        "1) O índice de massa corporal é dado pela fórmula peso dividido por altura ao quadrado. Faça um algoritmo que calcule o IMC e defina a condição de uma pessoa, sabendo que um IMC < 18 é considerado abaixo do peso; entre 18 e 25, normal; entre 25 e 30, acima do peso e maior que 30 obeso.\n",
        "\n"
      ]
    },
    {
      "cell_type": "code",
      "metadata": {
        "id": "LIq0mFIIHIQX",
        "colab_type": "code",
        "colab": {
          "base_uri": "https://localhost:8080/",
          "height": 68
        },
        "outputId": "828cad83-f7bc-457f-eaf5-50001be1eb4d"
      },
      "source": [
        "peso = float(input(\"Digite seu peso em kg \"))\n",
        "altura = float(input(\"Digite sua altura em metros \"))\n",
        "\n",
        "imc = peso/(altura*altura)\n",
        "\n",
        "if imc < 18:\n",
        "    resultado = \"abaixo do peso\"\n",
        "elif 18 <= imc < 25:\n",
        "    resultado = \"com peso ideal\"\n",
        "elif 25 <= imc < 30:\n",
        "    resultado = \"acima do peso\"\n",
        "else:\n",
        "    resultado = \"obeso\"\n",
        "\n",
        "print(\"Você está\", resultado)"
      ],
      "execution_count": 7,
      "outputs": [
        {
          "output_type": "stream",
          "text": [
            "Digite seu peso em kg 117\n",
            "Digite sua altura em metros 1.73\n",
            "Você está obeso\n"
          ],
          "name": "stdout"
        }
      ]
    },
    {
      "cell_type": "markdown",
      "metadata": {
        "id": "csd-gASLHb80",
        "colab_type": "text"
      },
      "source": [
        "2) Todos os dias, um sensor lê a temperatura de um ambiente controlado de uma empresa, em graus Celsius. Faça um algoritmo que calcule a temperatura média da semana e se a média for maior que 25 graus, mostrar que a temperatura está acima da aceitável; entre 18 e 25, temperatura ideal e abaixo de 18, temperatura abaixo do ideal.\n"
      ]
    },
    {
      "cell_type": "code",
      "metadata": {
        "id": "mzrNRstTKBId",
        "colab_type": "code",
        "colab": {
          "base_uri": "https://localhost:8080/",
          "height": 170
        },
        "outputId": "f1425754-8967-42d0-becd-a1cec8e2ce60"
      },
      "source": [
        "t1 = float(input(\"Digite a temperatura de domingo em graus Celsius: \"))\n",
        "t2 = float(input(\"Digite a temperatura de segunda-feira em graus Celsius: \"))\n",
        "t3 = float(input(\"Digite a temperatura de terça-feira em graus Celsius: \"))\n",
        "t4 = float(input(\"Digite a temperatura de quarta-feira em graus Celsius: \"))\n",
        "t5 = float(input(\"Digite a temperatura de quinta-feira em graus Celsius: \"))\n",
        "t6 = float(input(\"Digite a temperatura de sexta-feira em graus Celsius: \"))\n",
        "t7 = float(input(\"Digite a temperatura de sábado em graus Celsius: \"))\n",
        "\n",
        "media = (t1 + t2 + t3 + t4 + t5 + t6 + t7) / 7\n",
        "print(\"A média de temperatura foi de\", media, \"graus Celsius.\")\n",
        "\n",
        "if media > 25:\n",
        "    print(\"Temperatura acima da aceitável.\")\n",
        "elif 18 < media < 25:\n",
        "    print(\"Temperatura ideal.\")\n",
        "else:\n",
        "    print(\"Temperatura abaixo do ideal.\")"
      ],
      "execution_count": 8,
      "outputs": [
        {
          "output_type": "stream",
          "text": [
            "Digite a temperatura de domingo em graus Celsius: 11\n",
            "Digite a temperatura de segunda-feira em graus Celsius: 2\n",
            "Digite a temperatura de terça-feira em graus Celsius: 34\n",
            "Digite a temperatura de quarta-feira em graus Celsius: 23\n",
            "Digite a temperatura de quinta-feira em graus Celsius: 0\n",
            "Digite a temperatura de sexta-feira em graus Celsius: -1\n",
            "Digite a temperatura de sábado em graus Celsius: 2\n",
            "A média de temperatura foi de 10.142857142857142 graus Celsius.\n",
            "Temperatura abaixo do ideal.\n"
          ],
          "name": "stdout"
        }
      ]
    },
    {
      "cell_type": "markdown",
      "metadata": {
        "id": "GEs10H_YMf1L",
        "colab_type": "text"
      },
      "source": [
        "3) Elabore um algoritmo que determine se um ano é ou não\n",
        "bissexto (ele será bissexto se for divisível por 400 ou se\n",
        "for divisível por 4 e não por 100)."
      ]
    },
    {
      "cell_type": "code",
      "metadata": {
        "id": "aBatKwdzMxbC",
        "colab_type": "code",
        "colab": {
          "base_uri": "https://localhost:8080/",
          "height": 51
        },
        "outputId": "0f2d212b-588c-4e1f-f413-b251894d9df2"
      },
      "source": [
        "ano = int(input(\"Digite o ano: \"))\n",
        "\n",
        "if ano % 400 == 0 or (ano % 4 == 0 and ano % 100 != 0):\n",
        "    print(\"O ano é bissexto.\")\n",
        "else:\n",
        "    print (\"O ano não é bissexto.\")"
      ],
      "execution_count": 10,
      "outputs": [
        {
          "output_type": "stream",
          "text": [
            "Digite o ano: 1994\n",
            "O ano não é bissexto.\n"
          ],
          "name": "stdout"
        }
      ]
    },
    {
      "cell_type": "markdown",
      "metadata": {
        "id": "9IK2IolyM3Az",
        "colab_type": "text"
      },
      "source": [
        "4) Crie um algoritmo que leia 3 medidas e verifique se\n",
        "elas podem ser medidas de um triângulo. Se sim, determine o tipo do\n",
        "triângulo (equilátero, isósceles ou escaleno)."
      ]
    },
    {
      "cell_type": "code",
      "metadata": {
        "id": "GOsMHlORNR_3",
        "colab_type": "code",
        "colab": {
          "base_uri": "https://localhost:8080/",
          "height": 85
        },
        "outputId": "c65da687-24e8-4bcd-c045-594b5ddd4caf"
      },
      "source": [
        "A = int(input(\"Digite o 1º valor: \"))\n",
        "B = int(input(\"Digite o 2º valor: \"))\n",
        "C = int(input(\"Digite o 3º valor: \"))\n",
        "\n",
        "if  (A < B + C) and (A > abs(B -C)) and (B < A + C) and (B > abs(A -C)) and (C < A + B) and (C > abs(A -B)):\n",
        "    print(\"Forma-se um triângulo.\")\n",
        "\n",
        "    if (A == B) and (B == C):\n",
        "        print(\"O triângulo é equilátero.\")\n",
        "    elif (A ==B) or (A == C) or (B == C):\n",
        "        print(\"O triângulo é isósceles.\")\n",
        "    else:\n",
        "        print(\"O triângulo é escaleno.\")\n",
        "\n",
        "else:\n",
        "    print(\"Não forma um triângulo.\")"
      ],
      "execution_count": 13,
      "outputs": [
        {
          "output_type": "stream",
          "text": [
            "Digite o 1º valor: 1\n",
            "Digite o 2º valor: 2\n",
            "Digite o 3º valor: 3\n",
            "Não forma um triângulo.\n"
          ],
          "name": "stdout"
        }
      ]
    },
    {
      "cell_type": "markdown",
      "metadata": {
        "id": "1rjp1kDqPM0N",
        "colab_type": "text"
      },
      "source": [
        "5) Elabore um algortimo que leia dois valores e mostre se o primeiro e divisível pelo segundo. "
      ]
    },
    {
      "cell_type": "code",
      "metadata": {
        "id": "AgWCi8r6PQ0l",
        "colab_type": "code",
        "colab": {
          "base_uri": "https://localhost:8080/",
          "height": 68
        },
        "outputId": "75266ce2-bbf6-4a1b-d508-8cb44c12d24b"
      },
      "source": [
        "a = int(input(\"Digite um valor inteiro para A: \"))\n",
        "b = int(input(\"Digite um valor inteiro para B: \"))\n",
        "\n",
        "if a % b == 0:\n",
        "    print(\"A é divisível por B.\")\n",
        "else:\n",
        "    print(\"A não é divisível por B.\")"
      ],
      "execution_count": 15,
      "outputs": [
        {
          "output_type": "stream",
          "text": [
            "Digite um valor inteiro para A: 4\n",
            "Digite um valor inteiro para B: 2\n",
            "A é divisível por B.\n"
          ],
          "name": "stdout"
        }
      ]
    },
    {
      "cell_type": "markdown",
      "metadata": {
        "id": "qOIP4GPXPcCc",
        "colab_type": "text"
      },
      "source": [
        "6) Uma empresa oferece para seus clientes um desconto\n",
        "em função do valor da compra. Este desconto é de 25%\n",
        "se o valor da compra for maior ou igual a 500 reais, 20% se for\n",
        "maior ou igual a 200 e menor que 500 e 15% caso seja\n",
        "menor que 200. Escreva um algoritmo que leia o valor da\n",
        "compra do cliente, o valor do desconto obtido e o valor a ser pago\n",
        "pelo cliente."
      ]
    },
    {
      "cell_type": "code",
      "metadata": {
        "id": "MJTPwcpFQCNl",
        "colab_type": "code",
        "colab": {
          "base_uri": "https://localhost:8080/",
          "height": 51
        },
        "outputId": "a474544c-cca7-4829-b776-d043691ff888"
      },
      "source": [
        "compra =  float(input(\"Digite o valor da compra \"))\n",
        "\n",
        "desc1 = \"25%\"\n",
        "desc2 = \"20%\"\n",
        "desc3 = \"15%\"\n",
        "\n",
        "v1 = compra - (0.25*compra)\n",
        "v2 = compra - (0.2*compra)\n",
        "v3 = compra - (0.15*compra)\n",
        "\n",
        "if compra >= 500:\n",
        "    print(\"Sua compra foi de R$\", compra, \"reais.Você teve um desconto de\", desc1, \", portanto vai pagar R$\", v1, \"reais.\")\n",
        "elif (200 <= compra < 500):\n",
        "    print(\"Sua compra foi de R$\", compra, \"reais.Você teve um desconto de\", desc2, \", portanto vai pagar R$\", v2, \"reais.\")\n",
        "else:\n",
        "    print(\"Sua compra foi de R$\", compra, \"reais.Você teve um desconto de\", desc3, \", portanto vai pagar R$\", v3, \"reais.\")"
      ],
      "execution_count": 16,
      "outputs": [
        {
          "output_type": "stream",
          "text": [
            "Digite o valor da compra 750\n",
            "Sua compra foi de R$ 750.0 reais.Você teve um desconto de 25% , portanto vai pagar R$ 562.5 reais.\n"
          ],
          "name": "stdout"
        }
      ]
    },
    {
      "cell_type": "markdown",
      "metadata": {
        "id": "BhiCFjP2PQxH",
        "colab_type": "text"
      },
      "source": [
        "7) Escreva um algoritmo que leia\t3 valores inteiros e os escreva\tem\tordem crescente. Caso sejam valores iguais, imprimir “3 valores iguais” ou “2 valores iguais”."
      ]
    },
    {
      "cell_type": "code",
      "metadata": {
        "id": "l0CxPlGgQy9E",
        "colab_type": "code",
        "colab": {
          "base_uri": "https://localhost:8080/",
          "height": 102
        },
        "outputId": "b61e1e5d-a638-4f30-ae23-ea2701813b7c"
      },
      "source": [
        "a =  int(input(\"Digite o 1º valor inteiro: \"))\n",
        "b =  int(input(\"Digite o 2º valor inteiro: \"))\n",
        "c =  int(input(\"Digite o 3º valor inteiro: \"))\n",
        "\n",
        "if (a == b) and (b == c):\n",
        "    print(\"Os três valores são iguais:\", a, \",\", b , \"e\" , c , \".\")\n",
        "if (a == b) and (c != b) and b < c:\n",
        "    menor = a\n",
        "    intermed = b\n",
        "    maior = c\n",
        "    print(\"Há dois números iguais.\")\n",
        "if (a == b) and (c != b) and b > c:\n",
        "    menor = c \n",
        "    intermed = a\n",
        "    maior = b\n",
        "    print(\"Há dois números iguais.\")\n",
        "if (a == c) and (b != a) and a < b:\n",
        "    menor = a\n",
        "    intermed = c\n",
        "    maior = b\n",
        "    print(\"Há dois números iguais.\")\n",
        "if (a == c) and (b != a) and a > b:\n",
        "    menor = b\n",
        "    intermed = a\n",
        "    maior = c\n",
        "    print(\"Há dois números iguais.\")\n",
        "if (b == c) and (c != a) and b < a:\n",
        "    menor = b\n",
        "    intermed = c \n",
        "    maior = a\n",
        "    print(\"Há dois números iguais.\")\n",
        "if (b == c) and (c != a) and b > a:\n",
        "    menor = a\n",
        "    intermed = b \n",
        "    maior = c\n",
        "    print(\"Há dois números iguais.\")\n",
        "\n",
        "if a < b and a < c:\n",
        " menor = a\n",
        " if b < c:\n",
        "   intermed = b\n",
        "   maior = c\n",
        " else:\n",
        "   intermed = c\n",
        "   maior = b\n",
        "else:\n",
        " if b < a and b < c:\n",
        "   menor=b\n",
        "   if a < c:\n",
        "     intermed = a\n",
        "     maior = c\n",
        "   else:\n",
        "     intermed = c\n",
        "     maior = a\n",
        " else:\n",
        "   if c < a and c < b:\n",
        "     menor = c\n",
        "     if a < b:\n",
        "       intermed = a\n",
        "       maior = b\n",
        "     else:\n",
        "       intermed = b\n",
        "       maior = a\n",
        "\n",
        "print(\"A ordem dos valores é\", menor, \",\", intermed, \"e\", maior,\".\")\n"
      ],
      "execution_count": 17,
      "outputs": [
        {
          "output_type": "stream",
          "text": [
            "Digite o 1º valor inteiro: 2\n",
            "Digite o 2º valor inteiro: 2\n",
            "Digite o 3º valor inteiro: 3\n",
            "Há dois números iguais.\n",
            "A ordem dos valores é 2 , 2 e 3 .\n"
          ],
          "name": "stdout"
        }
      ]
    },
    {
      "cell_type": "markdown",
      "metadata": {
        "id": "FdbXP8BVRr14",
        "colab_type": "text"
      },
      "source": [
        "8) Faça um programa para ler o nome, três notas e número de faltas de um aluno e escrever qual a sua situação final: Aprovado, Reprovado por Falta ou Reprovado por Média. A média para aprovação é 7,0 e o limite de faltas é 25% (O número de aulas ministradas no semestre foi 80).\n"
      ]
    },
    {
      "cell_type": "code",
      "metadata": {
        "id": "J6fUcXB8SF30",
        "colab_type": "code",
        "colab": {
          "base_uri": "https://localhost:8080/",
          "height": 119
        },
        "outputId": "7872d48f-7455-4446-ed9f-e95b73805b85"
      },
      "source": [
        "nome = input(\"Digite o nome do aluno: \")\n",
        "n1 = float(input(\"Digite a 1ª nota do aluno: \"))\n",
        "n2 = float(input(\"Digite a 2ª nota do aluno: \"))\n",
        "n3 = float(input(\"Digite a 3ª nota do aluno: \"))\n",
        "faltas = int(input(\"Digite o número de faltas do aluno: \"))\n",
        "\n",
        "media = (n1 + n2 + n3) / 3\n",
        "\n",
        "if media >= 7 and faltas < 20:\n",
        "    print(nome,\"teve média\", media, \"e\", faltas, \"faltas, portanto, foi aprovado(a).\")\n",
        "elif media >= 7 and faltas >= 20: \n",
        "    print(nome,\"teve média\", media, \"e\", faltas, \"faltas, portanto, foi reprovado(a) por faltas.\")\n",
        "elif media < 7 and faltas < 20:\n",
        "    print(nome,\"teve média\", media, \"e\", faltas, \"faltas, portanto, foi reprovado(a) por média.\")\n",
        "else: \n",
        "    print(nome, \"foi reprovado(a) por média e faltas.\")"
      ],
      "execution_count": 18,
      "outputs": [
        {
          "output_type": "stream",
          "text": [
            "Digite o nome do aluno: TEF\n",
            "Digite a 1ª nota do aluno: 10\n",
            "Digite a 2ª nota do aluno: 9.7\n",
            "Digite a 3ª nota do aluno: 10\n",
            "Digite o número de faltas do aluno: 0\n",
            "TEF teve média 9.9 e 0 faltas, portanto, foi aprovado(a).\n"
          ],
          "name": "stdout"
        }
      ]
    },
    {
      "cell_type": "markdown",
      "metadata": {
        "id": "8-FDkTwDSQE6",
        "colab_type": "text"
      },
      "source": [
        "9) Elabore um jogo que deverá ser jogado por 2 pessoas. A primeira pessoa permite ao outro jogador digitar um número de 1 a 10 (sem que ele veja). Em um passo seguinte, seu programa deve pontuar da seguinte maneira: 10 pontos caso o usuário acerte de primeira, 5 pontos caso o usuário acerte na segunda tentativa (nesta segunda tentativa imprimir para o adversário se o número é maior ou menor que 5), 3 pontos caso o usuário acerte na terceira tentativa e 0 pontos caso não acerte.\n"
      ]
    },
    {
      "cell_type": "code",
      "metadata": {
        "id": "LffEwh23SnmY",
        "colab_type": "code",
        "colab": {}
      },
      "source": [
        "v2 = int(input(\"Jogador 2, digite um número entre 1 e 10: \"))\n",
        "\n",
        "print(\"\\n\" * 100) #comando para o jogador não visualizar o numero digitado pelo adversario\n",
        "\n",
        "v1 = int(input(\"Jogador 1, acerte o número entre 1 e 10 do Jogador 2: \"))\n",
        "\n",
        "if v2 == v1:\n",
        "    print(\"Parabéns! Você conseguiu 10 pontos.\")\n",
        "else:\n",
        "    print(\"Jogador 1, você errou o número do Jogador 2.\")\n",
        "    v3 = int(input(\"Jogador 1, tente novamente: \"))\n",
        "    \n",
        "if v3 == v2:\n",
        "    print(\"Legal, você ganhou 5 pontos.\")\n",
        "elif v2 > 5:\n",
        "    print(\"O número do Jogador 2 é maior que 5.\")\n",
        "else:\n",
        "    print(\"O número do Jogador 2 é menor que 5.\")\n",
        "    v4 = int(input(\"Jogador 1, tente novamente: \"))\n",
        "\n",
        "if v4 == v2:\n",
        "    print(\"Ok, você ganhou 3 pontos.\")\n",
        "else:\n",
        "    print(\"Que pena! Você fez 0 pontos. Tente acertar na próxima.\")"
      ],
      "execution_count": null,
      "outputs": []
    },
    {
      "cell_type": "markdown",
      "metadata": {
        "id": "HY9uChWhS6aw",
        "colab_type": "text"
      },
      "source": [
        "10) Elabore um algoritmo que leia 3 valores inteiros e os\n",
        "coloque em ordem crescente, de modo que em a fique o menor\n",
        "valor, em b o valor intermediário e em c o maior valor."
      ]
    },
    {
      "cell_type": "code",
      "metadata": {
        "id": "BSxHGU7cTNlj",
        "colab_type": "code",
        "colab": {
          "base_uri": "https://localhost:8080/",
          "height": 85
        },
        "outputId": "53781d34-a89a-4424-d7cb-41e474144205"
      },
      "source": [
        "a = int(input(\"Digite o 1º valor \"))\n",
        "b = int(input(\"Digite o 2º valor \"))\n",
        "c = int(input(\"Digite o 3º valor \"))\n",
        "\n",
        "menor = a\n",
        "\n",
        "if b < a and b < c:\n",
        "    menor = b\n",
        "elif c < a and c < b:\n",
        "    menor = c\n",
        "\n",
        "medio = b \n",
        "\n",
        "if a > b and a < c:\n",
        "    medio = a\n",
        "elif a > c and a < b:\n",
        "    medio = a\n",
        "elif c > a and c < b:\n",
        "    medio = c\n",
        "elif c > b and c < a:\n",
        "    medio = c\n",
        "\n",
        "maior = c\n",
        "\n",
        "if b > a and b >c:\n",
        "    maior = b\n",
        "elif a > b and a > c:\n",
        "    maior = a\n",
        "\n",
        "print(\"A é\", menor, \"B é\", medio, \"e C é\", maior)"
      ],
      "execution_count": 19,
      "outputs": [
        {
          "output_type": "stream",
          "text": [
            "Digite o 1º valor 5\n",
            "Digite o 2º valor 2\n",
            "Digite o 3º valor -1\n",
            "A é -1 B é 2 e C é 5\n"
          ],
          "name": "stdout"
        }
      ]
    },
    {
      "cell_type": "markdown",
      "metadata": {
        "id": "cV9-mQh2TZs-",
        "colab_type": "text"
      },
      "source": [
        "11) Elabore um algoritmo que leia a medida de um ângulo e\n",
        "determine em qual quadrante ele está. Considere: 1º Quadrante,\n",
        "ângulos <=90; 2º. Quadrante, > 90 e <= 180; 3º. Quadrante, > 180 e\n",
        "<=270 e 4º. Quadrante, > 270 e <=360 graus. "
      ]
    },
    {
      "cell_type": "code",
      "metadata": {
        "id": "wsZRudbzTtf4",
        "colab_type": "code",
        "colab": {
          "base_uri": "https://localhost:8080/",
          "height": 51
        },
        "outputId": "c2081b49-dba7-4803-a422-7605b283ff8e"
      },
      "source": [
        "angulo = float(input(\"Digite o valor do ângulo \"))\n",
        "\n",
        "calculo = angulo // 360\n",
        "\n",
        "if  0 < angulo <= 90:\n",
        "    print (\"O ângulo está no primeiro quadrante.\")\n",
        "elif 90 < angulo <= 180:\n",
        "    print (\"O ângulo está no segundo quadrante.\")\n",
        "elif 180 < angulo <= 270:\n",
        "    print (\"O ângulo está no terceiro quadrante.\")\n",
        "elif 270 < angulo <= 360:\n",
        "    print (\"O ângulo está no quarto quadrante.\")\n",
        "else:\n",
        "    print (\"Digite um valor entre 0 e 360 graus.\")"
      ],
      "execution_count": 20,
      "outputs": [
        {
          "output_type": "stream",
          "text": [
            "Digite o valor do ângulo 361\n",
            "Digite um valor entre 0 e 360 graus.\n"
          ],
          "name": "stdout"
        }
      ]
    },
    {
      "cell_type": "markdown",
      "metadata": {
        "id": "6t1q9OYIT5CX",
        "colab_type": "text"
      },
      "source": [
        "12) Faca um algoritmo que leia um numero de tres algarismos e imprima se ele e ascendente ou nao."
      ]
    },
    {
      "cell_type": "code",
      "metadata": {
        "id": "aPb_AX1lU39t",
        "colab_type": "code",
        "colab": {
          "base_uri": "https://localhost:8080/",
          "height": 68
        },
        "outputId": "147e26b7-8526-4480-8fd2-7c7f8de1e0e4"
      },
      "source": [
        "numero = int(input(\"Digite um número de três algarismos\"))\n",
        "\n",
        "if 99 < numero < 1000:\n",
        "    print(\"Número válido.\")\n",
        "else:\n",
        "    print(\"O numero nao contem tres algarismos.\")\n",
        "\n",
        "unidade = numero // 1 % 10 \n",
        "dezena = numero // 10 % 10 \n",
        "centena = numero // 100 % 10 \n",
        " \n",
        "if centena < dezena < unidade:\n",
        "     print(\"O número é ascendente.\")\n",
        "else:\n",
        "    print(\"O número não é ascendente.\")\n"
      ],
      "execution_count": 26,
      "outputs": [
        {
          "output_type": "stream",
          "text": [
            "Digite um número de três algarismos111111\n",
            "O numero nao contem tres algarismos.\n",
            "O número não é ascendente.\n"
          ],
          "name": "stdout"
        }
      ]
    },
    {
      "cell_type": "markdown",
      "metadata": {
        "id": "uNQiJaPSVmP2",
        "colab_type": "text"
      },
      "source": [
        "13) Elabore um algortimo que leia a idade de uma pessoa e mostre se ela pode votar (maior de 16 anos) e dirigir (maior de 18)."
      ]
    },
    {
      "cell_type": "code",
      "metadata": {
        "id": "lfT1e2f8V2z_",
        "colab_type": "code",
        "colab": {
          "base_uri": "https://localhost:8080/",
          "height": 51
        },
        "outputId": "95635e87-19e7-4e99-d846-9c16676a3327"
      },
      "source": [
        "idade = int(input(\"Digite sua idade\"))\n",
        "\n",
        "if idade < 16:\n",
        "    resultado = \"não pode votar e não pode dirigir.\"\n",
        "elif 16 < idade < 18:\n",
        "    resultado = \"pode votar, mas não pode dirigir.\"\n",
        "else:\n",
        "    resultado = \"pode votar e dirigir.\"\n",
        "\n",
        "print(\"Você\", resultado)"
      ],
      "execution_count": 27,
      "outputs": [
        {
          "output_type": "stream",
          "text": [
            "Digite sua idade26\n",
            "Você pode votar e dirigir.\n"
          ],
          "name": "stdout"
        }
      ]
    }
  ]
}