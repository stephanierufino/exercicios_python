{
  "nbformat": 4,
  "nbformat_minor": 0,
  "metadata": {
    "colab": {
      "name": "for.ipynb",
      "provenance": [],
      "collapsed_sections": [],
      "authorship_tag": "ABX9TyOOcVtjbdCCYAZ4lZrBZGNL",
      "include_colab_link": true
    },
    "kernelspec": {
      "name": "python3",
      "display_name": "Python 3"
    }
  },
  "cells": [
    {
      "cell_type": "markdown",
      "metadata": {
        "id": "view-in-github",
        "colab_type": "text"
      },
      "source": [
        "<a href=\"https://colab.research.google.com/github/stephanierufino/exercicios_python/blob/master/for.ipynb\" target=\"_parent\"><img src=\"https://colab.research.google.com/assets/colab-badge.svg\" alt=\"Open In Colab\"/></a>"
      ]
    },
    {
      "cell_type": "markdown",
      "metadata": {
        "id": "YnSlqdTKz5lE",
        "colab_type": "text"
      },
      "source": [
        "# **For**\n",
        "\n",
        "Esse comando tem como funcao gerar uma instrucao a partir de um intervalo.\n",
        "\n",
        "> Use o laco de repeticao *for* para gerar um algoritmo que mostre a sequência dos numeros de 0 a 10."
      ]
    },
    {
      "cell_type": "code",
      "metadata": {
        "id": "-2qf8Hoxzgn1",
        "colab_type": "code",
        "colab": {}
      },
      "source": [
        "for i in range(0, 5):\n",
        "  print(i)\n",
        "\n",
        "a = 1\n",
        "while a <= 10:\n",
        "  print(a)\n",
        "  a = a + 1"
      ],
      "execution_count": null,
      "outputs": []
    },
    {
      "cell_type": "markdown",
      "metadata": {
        "id": "FGM-Fg8-0H3t",
        "colab_type": "text"
      },
      "source": [
        "Elabore um algoritmo que mostre a sequencia dos numeros impares de 1 ate 9."
      ]
    },
    {
      "cell_type": "code",
      "metadata": {
        "id": "chajtmFk0iyy",
        "colab_type": "code",
        "colab": {}
      },
      "source": [
        "for i in range(1, 10, 2):\n",
        "  print(i)"
      ],
      "execution_count": null,
      "outputs": []
    },
    {
      "cell_type": "markdown",
      "metadata": {
        "id": "Eud5V3Wf0nxu",
        "colab_type": "text"
      },
      "source": [
        "Elabore um algoritmo que faca uma contagem regressiva de 12 ate 1"
      ]
    },
    {
      "cell_type": "code",
      "metadata": {
        "id": "P2a7U5ny0vYQ",
        "colab_type": "code",
        "colab": {}
      },
      "source": [
        "for i in range (12, 0, -1):\n",
        "  print(i)"
      ],
      "execution_count": null,
      "outputs": []
    },
    {
      "cell_type": "markdown",
      "metadata": {
        "id": "PUcR8gqI0zaB",
        "colab_type": "text"
      },
      "source": [
        "Faca um algoritmo no qual mostre dez linhas, na qual a seja a primeira coluna, comecando de 1 e sempre aumentando 1; b, na segunda coluna, comecando de 2 e aumentando 2 numeros e c, na terceira coluna, que seja a soma entre a e b."
      ]
    },
    {
      "cell_type": "code",
      "metadata": {
        "id": "e_UDaTZn1Jso",
        "colab_type": "code",
        "colab": {}
      },
      "source": [
        "a = 1\n",
        "b = 2\n",
        "\n",
        "for i in range (0, 10):\n",
        "  c = a + b\n",
        "  print (a, b, c)\n",
        "  a+=1\n",
        "  b+=2\n"
      ],
      "execution_count": null,
      "outputs": []
    },
    {
      "cell_type": "markdown",
      "metadata": {
        "id": "EmABUzko1rtO",
        "colab_type": "text"
      },
      "source": [
        "Elabore um algoritmo que calcule a soma de cinco números lidos pelo teclado."
      ]
    },
    {
      "cell_type": "code",
      "metadata": {
        "id": "lNU-zeEU2PT-",
        "colab_type": "code",
        "colab": {}
      },
      "source": [
        "n1 = int(input(\"Digite o primeiro número: \"))\n",
        "n2 = int(input(\"Digite o segundo número: \"))\n",
        "n3 = int(input(\"Digite o terceiro número: \"))\n",
        "n4 = int(input(\"Digite o quarto número: \"))\n",
        "n5 = int(input(\"Digite o quinto número: \"))\n",
        "\n",
        "for i in range (n1, n5):\n",
        "  soma = n1+ n2 + n3 + n4 + n5\n",
        "\n",
        "print(\"A soma dos números digitados é\", soma)"
      ],
      "execution_count": null,
      "outputs": []
    },
    {
      "cell_type": "markdown",
      "metadata": {
        "id": "ZrqyiPR62RRz",
        "colab_type": "text"
      },
      "source": [
        "Elabore um algoritmo que leia um número inteiro e mostre todos os seus divisores. "
      ]
    },
    {
      "cell_type": "code",
      "metadata": {
        "id": "DF5GY8JZ2XQY",
        "colab_type": "code",
        "colab": {}
      },
      "source": [
        "n1 = int(input(\"Digite um número para saber todos os seus divisores: \"))\n",
        "x = 1\n",
        "\n",
        "for i in range(1,n1+1):\n",
        "  if (n1 % i) == 0:\n",
        "    print(\"O divisor do número\", n1, \"é\", i)"
      ],
      "execution_count": null,
      "outputs": []
    },
    {
      "cell_type": "markdown",
      "metadata": {
        "id": "Y2a_hnlL2flO",
        "colab_type": "text"
      },
      "source": [
        "Elabore um algoritmo que leia um número e verifique se ele é primo."
      ]
    },
    {
      "cell_type": "code",
      "metadata": {
        "id": "n47HsROy2lFu",
        "colab_type": "code",
        "colab": {}
      },
      "source": [
        "n1 = int(input(\"Digite um número para saber se ele é primo: \"))\n",
        "x = 1\n",
        "contpr = 0\n",
        "contno = 0\n",
        "\n",
        "for i in range(1,n1+1):\n",
        "  if (n1 % i) == 0:\n",
        "    contpr+=1\n",
        "  else:\n",
        "    contno+=1\n",
        "\n",
        "if contpr > 2:\n",
        "  print(\"O número\", n1, \"não é primo.\")\n",
        "else:\n",
        "  print(\"O número\", n1, \"é primo.\")"
      ],
      "execution_count": null,
      "outputs": []
    },
    {
      "cell_type": "markdown",
      "metadata": {
        "id": "E4vSkieC2uRi",
        "colab_type": "text"
      },
      "source": [
        "Elabore um algoritmo que leia um número inteiro e calcule o seu fatorial."
      ]
    },
    {
      "cell_type": "code",
      "metadata": {
        "id": "yl6IqsXc2zaZ",
        "colab_type": "code",
        "colab": {}
      },
      "source": [
        "n1 = int(input(\"Digite um número para saber seu fatorial: \"))\n",
        "x = 1\n",
        "\n",
        "for i in range(2,n1+1):\n",
        "  x = x * i \n",
        "\n",
        "print(\"O fatorial do número\", n1, \"é\", x)"
      ],
      "execution_count": null,
      "outputs": []
    },
    {
      "cell_type": "markdown",
      "metadata": {
        "id": "7WsedxU13Cid",
        "colab_type": "text"
      },
      "source": [
        "Elabore um algoritmo que leia um número inteiro e verifique se\n",
        "ele é ou não perfeito (número perfeito deve ser igual a\n",
        "soma de seus divisores, exceto ele próprio)."
      ]
    },
    {
      "cell_type": "code",
      "metadata": {
        "id": "vodcv2ws3CFY",
        "colab_type": "code",
        "colab": {}
      },
      "source": [
        "n = int(input(\"Digite um número para saber se ele é perfeito: \"))\n",
        "soma = 0\n",
        "\n",
        "for i in range(1,n):\n",
        "  if n % i == 0:\n",
        "    soma += i\n",
        "  \n",
        "if n == soma:\n",
        "  print(\"O número\", n, \"é perfeito.\")\n",
        "else:\n",
        "  print(\"O número\", n, \"não é perfeito.\")"
      ],
      "execution_count": null,
      "outputs": []
    }
  ]
}